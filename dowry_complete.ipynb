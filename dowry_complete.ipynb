{
 "cells": [
  {
   "cell_type": "markdown",
   "id": "1fab238f-0607-4aa8-8256-d64b09080c6b",
   "metadata": {},
   "source": [
    "# Predicting the dowry to be taken (or given) based on number of factors using ML:"
   ]
  },
  {
   "cell_type": "markdown",
   "id": "69205a30-3c2b-4f1f-9826-7c907771394f",
   "metadata": {},
   "source": [
    "## Problem Definition:\n",
    "> Given various credibility factors of both the parties, can we predict the dowry amount?\n",
    "\n",
    "## Data:\n",
    "We have a bog dataset of more than 15000 samples taken from various government sources, new articles and local experiences.\n",
    "\n",
    "## Evaluate: \n",
    "If we can reach 95% accuracy in pursuing the correct amount while predcited on the cross validated test sets, we'll pursue the project.\n",
    "\n",
    "## Features:\n",
    "Based on 13 most important features, But we'll evaluate further if we could remove or add other features according to the Project's need."
   ]
  },
  {
   "cell_type": "markdown",
   "id": "383e434c-2d66-47f9-9d90-6ef5677ffdf8",
   "metadata": {},
   "source": [
    "### Importing the tools:\n",
    "\n",
    "Importing the various tools for further ML project"
   ]
  },
  {
   "cell_type": "code",
   "execution_count": 43,
   "id": "81ea6340-284b-417f-8e8e-65676a32be8a",
   "metadata": {},
   "outputs": [],
   "source": [
    "import numpy as np\n",
    "import pandas as pd\n",
    "import matplotlib.pyplot as plt\n",
    "import seaborn as sns\n",
    "\n",
    "# Models from sklearn\n",
    "from sklearn.ensemble import RandomForestRegressor\n",
    "from sklearn.linear_model import Lasso\n",
    "from sklearn import svm\n",
    "from sklearn.neighbors import KNeighborsRegressor\n",
    "from sklearn.tree import DecisionTreeRegressor\n",
    "\n",
    "# Model Evaluations\n",
    "from sklearn.model_selection import train_test_split\n",
    "from sklearn.model_selection import RandomizedSearchCV, GridSearchCV\n",
    "from sklearn.metrics import mean_absolute_error, mean_squared_error, root_mean_squared_error, r2_score"
   ]
  },
  {
   "cell_type": "markdown",
   "id": "1b99ba3c-8d2b-4a62-b0e9-d22ecccdfed0",
   "metadata": {},
   "source": [
    "### Fetching data and doing EDA"
   ]
  },
  {
   "cell_type": "code",
   "execution_count": 2,
   "id": "a91c3604-8a8e-4d6d-a5e4-8b9142b7f3c8",
   "metadata": {},
   "outputs": [],
   "source": [
    "data = pd.read_csv(\"./indian_dowry_dataset.csv\")"
   ]
  },
  {
   "cell_type": "code",
   "execution_count": 3,
   "id": "2a6a8c85-a8ec-4122-917b-aaed9e6d27ea",
   "metadata": {},
   "outputs": [
    {
     "data": {
      "text/html": [
       "<div>\n",
       "<style scoped>\n",
       "    .dataframe tbody tr th:only-of-type {\n",
       "        vertical-align: middle;\n",
       "    }\n",
       "\n",
       "    .dataframe tbody tr th {\n",
       "        vertical-align: top;\n",
       "    }\n",
       "\n",
       "    .dataframe thead th {\n",
       "        text-align: right;\n",
       "    }\n",
       "</style>\n",
       "<table border=\"1\" class=\"dataframe\">\n",
       "  <thead>\n",
       "    <tr style=\"text-align: right;\">\n",
       "      <th></th>\n",
       "      <th>State</th>\n",
       "      <th>Caste</th>\n",
       "      <th>Religion</th>\n",
       "      <th>Groom_Age</th>\n",
       "      <th>Bride_Age</th>\n",
       "      <th>Groom_Education_Yrs</th>\n",
       "      <th>Bride_Education_Yrs</th>\n",
       "      <th>Groom_Income_Monthly</th>\n",
       "      <th>Bride_Income_Monthly</th>\n",
       "      <th>Occupation</th>\n",
       "      <th>Marriage_Type</th>\n",
       "      <th>Area</th>\n",
       "      <th>Family_Type</th>\n",
       "      <th>Dowry_Amount_INR</th>\n",
       "    </tr>\n",
       "  </thead>\n",
       "  <tbody>\n",
       "    <tr>\n",
       "      <th>0</th>\n",
       "      <td>Rajasthan</td>\n",
       "      <td>SC</td>\n",
       "      <td>Muslim</td>\n",
       "      <td>29</td>\n",
       "      <td>21</td>\n",
       "      <td>16</td>\n",
       "      <td>14</td>\n",
       "      <td>139882</td>\n",
       "      <td>52104</td>\n",
       "      <td>Business</td>\n",
       "      <td>Love</td>\n",
       "      <td>Rural</td>\n",
       "      <td>Nuclear</td>\n",
       "      <td>643114</td>\n",
       "    </tr>\n",
       "    <tr>\n",
       "      <th>1</th>\n",
       "      <td>Kerala</td>\n",
       "      <td>OBC</td>\n",
       "      <td>Muslim</td>\n",
       "      <td>21</td>\n",
       "      <td>29</td>\n",
       "      <td>17</td>\n",
       "      <td>10</td>\n",
       "      <td>63554</td>\n",
       "      <td>65692</td>\n",
       "      <td>Govt Job</td>\n",
       "      <td>Love</td>\n",
       "      <td>Urban</td>\n",
       "      <td>Joint</td>\n",
       "      <td>496434</td>\n",
       "    </tr>\n",
       "    <tr>\n",
       "      <th>2</th>\n",
       "      <td>Maharashtra</td>\n",
       "      <td>ST</td>\n",
       "      <td>Christian</td>\n",
       "      <td>28</td>\n",
       "      <td>29</td>\n",
       "      <td>17</td>\n",
       "      <td>14</td>\n",
       "      <td>53286</td>\n",
       "      <td>32341</td>\n",
       "      <td>Govt Job</td>\n",
       "      <td>Arranged</td>\n",
       "      <td>Urban</td>\n",
       "      <td>Joint</td>\n",
       "      <td>591887</td>\n",
       "    </tr>\n",
       "    <tr>\n",
       "      <th>3</th>\n",
       "      <td>Haryana</td>\n",
       "      <td>OBC</td>\n",
       "      <td>Muslim</td>\n",
       "      <td>27</td>\n",
       "      <td>27</td>\n",
       "      <td>15</td>\n",
       "      <td>8</td>\n",
       "      <td>99610</td>\n",
       "      <td>43283</td>\n",
       "      <td>Unemployed</td>\n",
       "      <td>Arranged</td>\n",
       "      <td>Urban</td>\n",
       "      <td>Joint</td>\n",
       "      <td>865062</td>\n",
       "    </tr>\n",
       "    <tr>\n",
       "      <th>4</th>\n",
       "      <td>Bihar</td>\n",
       "      <td>OBC</td>\n",
       "      <td>Sikh</td>\n",
       "      <td>33</td>\n",
       "      <td>30</td>\n",
       "      <td>15</td>\n",
       "      <td>12</td>\n",
       "      <td>58618</td>\n",
       "      <td>26546</td>\n",
       "      <td>Business</td>\n",
       "      <td>Love</td>\n",
       "      <td>Urban</td>\n",
       "      <td>Nuclear</td>\n",
       "      <td>323587</td>\n",
       "    </tr>\n",
       "  </tbody>\n",
       "</table>\n",
       "</div>"
      ],
      "text/plain": [
       "         State Caste   Religion  Groom_Age  Bride_Age  Groom_Education_Yrs  \\\n",
       "0    Rajasthan    SC     Muslim         29         21                   16   \n",
       "1       Kerala   OBC     Muslim         21         29                   17   \n",
       "2  Maharashtra    ST  Christian         28         29                   17   \n",
       "3      Haryana   OBC     Muslim         27         27                   15   \n",
       "4        Bihar   OBC       Sikh         33         30                   15   \n",
       "\n",
       "   Bride_Education_Yrs  Groom_Income_Monthly  Bride_Income_Monthly  \\\n",
       "0                   14                139882                 52104   \n",
       "1                   10                 63554                 65692   \n",
       "2                   14                 53286                 32341   \n",
       "3                    8                 99610                 43283   \n",
       "4                   12                 58618                 26546   \n",
       "\n",
       "   Occupation Marriage_Type   Area Family_Type  Dowry_Amount_INR  \n",
       "0    Business          Love  Rural     Nuclear            643114  \n",
       "1    Govt Job          Love  Urban       Joint            496434  \n",
       "2    Govt Job      Arranged  Urban       Joint            591887  \n",
       "3  Unemployed      Arranged  Urban       Joint            865062  \n",
       "4    Business          Love  Urban     Nuclear            323587  "
      ]
     },
     "execution_count": 3,
     "metadata": {},
     "output_type": "execute_result"
    }
   ],
   "source": [
    "data.head()"
   ]
  },
  {
   "cell_type": "code",
   "execution_count": 4,
   "id": "c0ac24ac-d9f4-4893-95a3-94689053e9b3",
   "metadata": {},
   "outputs": [
    {
     "data": {
      "text/plain": [
       "15000"
      ]
     },
     "execution_count": 4,
     "metadata": {},
     "output_type": "execute_result"
    }
   ],
   "source": [
    "len(data)"
   ]
  },
  {
   "cell_type": "code",
   "execution_count": 5,
   "id": "63e3e36d-39f3-444a-9770-c90a18779a5a",
   "metadata": {},
   "outputs": [
    {
     "data": {
      "text/plain": [
       "Index(['State', 'Caste', 'Religion', 'Groom_Age', 'Bride_Age',\n",
       "       'Groom_Education_Yrs', 'Bride_Education_Yrs', 'Groom_Income_Monthly',\n",
       "       'Bride_Income_Monthly', 'Occupation', 'Marriage_Type', 'Area',\n",
       "       'Family_Type', 'Dowry_Amount_INR'],\n",
       "      dtype='object')"
      ]
     },
     "execution_count": 5,
     "metadata": {},
     "output_type": "execute_result"
    }
   ],
   "source": [
    "data.columns"
   ]
  },
  {
   "cell_type": "code",
   "execution_count": 6,
   "id": "edb818f7-9e0e-4d20-a7bb-f0b1f6ea8b3e",
   "metadata": {},
   "outputs": [],
   "source": [
    "# I think General categories have higher dowry amount. Let's find out"
   ]
  },
  {
   "cell_type": "code",
   "execution_count": 7,
   "id": "09af28cb-5de9-4985-a90c-f419bc8aba6f",
   "metadata": {},
   "outputs": [
    {
     "data": {
      "text/plain": [
       "Caste\n",
       "OBC        3825\n",
       "General    3787\n",
       "SC         3726\n",
       "ST         3662\n",
       "Name: count, dtype: int64"
      ]
     },
     "execution_count": 7,
     "metadata": {},
     "output_type": "execute_result"
    }
   ],
   "source": [
    "data.Caste.value_counts()"
   ]
  },
  {
   "cell_type": "code",
   "execution_count": 8,
   "id": "5c06e2da-4d3c-4116-b677-1bcf7412e1bd",
   "metadata": {},
   "outputs": [
    {
     "data": {
      "text/plain": [
       "np.int64(9494524854)"
      ]
     },
     "execution_count": 8,
     "metadata": {},
     "output_type": "execute_result"
    }
   ],
   "source": [
    "data.Dowry_Amount_INR.sum()"
   ]
  },
  {
   "cell_type": "code",
   "execution_count": 9,
   "id": "3d70d36c-f8b1-4cf4-b63f-41a0bf7a267d",
   "metadata": {},
   "outputs": [
    {
     "data": {
      "image/png": "[encoded data removed]",
      "text/plain": [
       "<Figure size 500x500 with 1 Axes>"
      ]
     },
     "metadata": {},
     "output_type": "display_data"
    }
   ],
   "source": [
    "OBC_dowry = data.Dowry_Amount_INR[data.Caste == \"OBC\"].mean()\n",
    "OBC_dowry\n",
    "\n",
    "General_dowry = data.Dowry_Amount_INR[data.Caste == \"General\"].mean()\n",
    "General_dowry\n",
    "\n",
    "SC_dowry = data.Dowry_Amount_INR[data.Caste == \"SC\"].mean()\n",
    "SC_dowry\n",
    "\n",
    "ST_dowry = data.Dowry_Amount_INR[data.Caste == \"ST\"].mean()\n",
    "ST_dowry\n",
    "\n",
    "total_Dowry = OBC_dowry + General_dowry + SC_dowry + ST_dowry\n",
    "\n",
    "fig, ax = plt.subplots(figsize = (5, 5))\n",
    "\n",
    "ax.pie([OBC_dowry, General_dowry, SC_dowry, ST_dowry], labels=[\"OBC\", \"GENERAL\", \"SC\", \"ST\"], autopct='%1.2f%%', startangle=90);\n",
    "ax.set(title = f\"Caste wise comparizon of Dowry amount asked for\");"
   ]
  },
  {
   "cell_type": "markdown",
   "id": "697d493a-6a1e-4573-8710-1af122ae8544",
   "metadata": {},
   "source": [
    "Clearly, General and OBC has the most"
   ]
  },
  {
   "cell_type": "code",
   "execution_count": 10,
   "id": "00dc11c7-6d91-48e6-beea-29601a315750",
   "metadata": {},
   "outputs": [
    {
     "data": {
      "text/plain": [
       "Index(['State', 'Caste', 'Religion', 'Groom_Age', 'Bride_Age',\n",
       "       'Groom_Education_Yrs', 'Bride_Education_Yrs', 'Groom_Income_Monthly',\n",
       "       'Bride_Income_Monthly', 'Occupation', 'Marriage_Type', 'Area',\n",
       "       'Family_Type', 'Dowry_Amount_INR'],\n",
       "      dtype='object')"
      ]
     },
     "execution_count": 10,
     "metadata": {},
     "output_type": "execute_result"
    }
   ],
   "source": [
    "data.columns"
   ]
  },
  {
   "cell_type": "markdown",
   "id": "7bc14330-9bda-40cd-8786-fcf945f39aee",
   "metadata": {},
   "source": [
    "Now, I think Love marriage has the low Dowry Rate"
   ]
  },
  {
   "cell_type": "code",
   "execution_count": 11,
   "id": "ac77d29c-896e-4291-9594-7096244bb08e",
   "metadata": {},
   "outputs": [
    {
     "data": {
      "text/plain": [
       "Marriage_Type\n",
       "Arranged    7563\n",
       "Love        7437\n",
       "Name: count, dtype: int64"
      ]
     },
     "execution_count": 11,
     "metadata": {},
     "output_type": "execute_result"
    }
   ],
   "source": [
    "data.Marriage_Type.value_counts()"
   ]
  },
  {
   "cell_type": "code",
   "execution_count": 12,
   "id": "08064e24-d2fa-4161-91c7-92d15dc1570d",
   "metadata": {},
   "outputs": [
    {
     "data": {
      "image/png": "[encoded data removed]",
      "text/plain": [
       "<Figure size 500x300 with 1 Axes>"
      ]
     },
     "metadata": {},
     "output_type": "display_data"
    }
   ],
   "source": [
    "Love_dowry = data.Dowry_Amount_INR[data.Marriage_Type == \"Love\"].mean()\n",
    "Arranged_dowry = data.Dowry_Amount_INR[data.Marriage_Type == \"Arranged\"].mean()\n",
    "\n",
    "fig, ax = plt.subplots(figsize = (5, 3))\n",
    "ax.pie([Love_dowry, Arranged_dowry], labels = [\"Love\", \"Arranged\"], startangle= 90, autopct='%1.2f%%');\n",
    "ax.set(title = \"Dowry asked in different types of marriages\");"
   ]
  },
  {
   "cell_type": "markdown",
   "id": "009fd71d-14b3-43d5-aad0-1c7bb26d73a5",
   "metadata": {},
   "source": [
    "Let's analyse more"
   ]
  },
  {
   "cell_type": "code",
   "execution_count": 13,
   "id": "56fcad45-c6cf-4fa8-a90c-0ea2a97ef5c8",
   "metadata": {},
   "outputs": [
    {
     "data": {
      "text/plain": [
       "Index(['State', 'Caste', 'Religion', 'Groom_Age', 'Bride_Age',\n",
       "       'Groom_Education_Yrs', 'Bride_Education_Yrs', 'Groom_Income_Monthly',\n",
       "       'Bride_Income_Monthly', 'Occupation', 'Marriage_Type', 'Area',\n",
       "       'Family_Type', 'Dowry_Amount_INR'],\n",
       "      dtype='object')"
      ]
     },
     "execution_count": 13,
     "metadata": {},
     "output_type": "execute_result"
    }
   ],
   "source": [
    "data.columns"
   ]
  },
  {
   "cell_type": "markdown",
   "id": "6d980fdf-802c-48ed-80aa-a6b185426850",
   "metadata": {},
   "source": [
    "Does Joint families ask for more dowry"
   ]
  },
  {
   "cell_type": "code",
   "execution_count": 14,
   "id": "77fe6b32-0f6a-4fbf-8544-506d0c306b7f",
   "metadata": {},
   "outputs": [
    {
     "data": {
      "text/plain": [
       "Family_Type\n",
       "Nuclear    7520\n",
       "Joint      7480\n",
       "Name: count, dtype: int64"
      ]
     },
     "execution_count": 14,
     "metadata": {},
     "output_type": "execute_result"
    }
   ],
   "source": [
    "data.Family_Type.value_counts()"
   ]
  },
  {
   "cell_type": "code",
   "execution_count": 15,
   "id": "bd29a45c-dd59-473d-b42f-6bca97df3dbd",
   "metadata": {},
   "outputs": [
    {
     "data": {
      "image/png": "[encoded data removed]",
      "text/plain": [
       "<Figure size 500x500 with 1 Axes>"
      ]
     },
     "metadata": {},
     "output_type": "display_data"
    }
   ],
   "source": [
    "nuclear_dowry = data.Dowry_Amount_INR[data.Family_Type == \"Nuclear\"].mean()\n",
    "joint_dowry = data.Dowry_Amount_INR[data.Family_Type == \"Joint\"].mean()\n",
    "\n",
    "fig, ax = plt.subplots(figsize = (5, 5))\n",
    "plt.bar([\"Nuclear Family\", \"Joint Family\"], [nuclear_dowry, joint_dowry], color = [\"lightgreen\", \"orange\"]);"
   ]
  },
  {
   "cell_type": "markdown",
   "id": "efc46af8-e420-491a-8f4d-5f02863806f9",
   "metadata": {},
   "source": [
    "Ohhhh... they are almost equal, when it comes to dowry, nobody is less"
   ]
  },
  {
   "cell_type": "markdown",
   "id": "3b38ffdf-1cc0-48e8-85fe-203a43203527",
   "metadata": {},
   "source": [
    "Let's even see the percemntage in terms of pie chart"
   ]
  },
  {
   "cell_type": "code",
   "execution_count": 16,
   "id": "f3dd23da-31e4-4b11-8a5e-54f4c8eb3a2c",
   "metadata": {},
   "outputs": [
    {
     "data": {
      "image/png": "[encoded data removed]",
      "text/plain": [
       "<Figure size 500x500 with 1 Axes>"
      ]
     },
     "metadata": {},
     "output_type": "display_data"
    }
   ],
   "source": [
    "fig, ax = plt.subplots(figsize = (5, 5))\n",
    "ax.pie([nuclear_dowry, joint_dowry], labels=[\"Nuclear family\", \"Joint Family\"], autopct='%1.2f%%', startangle=90);\n",
    "ax.set(title = \"Dowry asked by different family types\");"
   ]
  },
  {
   "cell_type": "markdown",
   "id": "53393213-f7d0-4e8b-86db-64312b716b55",
   "metadata": {},
   "source": [
    "Amazing. they all are same."
   ]
  },
  {
   "cell_type": "markdown",
   "id": "6ca141c5-a414-439a-a2c7-d6648c73cfc7",
   "metadata": {},
   "source": [
    "Let's analyse more"
   ]
  },
  {
   "cell_type": "code",
   "execution_count": 17,
   "id": "5c54278a-6aa6-49db-ac60-df5edd092f88",
   "metadata": {},
   "outputs": [
    {
     "data": {
      "text/plain": [
       "Index(['State', 'Caste', 'Religion', 'Groom_Age', 'Bride_Age',\n",
       "       'Groom_Education_Yrs', 'Bride_Education_Yrs', 'Groom_Income_Monthly',\n",
       "       'Bride_Income_Monthly', 'Occupation', 'Marriage_Type', 'Area',\n",
       "       'Family_Type', 'Dowry_Amount_INR'],\n",
       "      dtype='object')"
      ]
     },
     "execution_count": 17,
     "metadata": {},
     "output_type": "execute_result"
    }
   ],
   "source": [
    "data.columns"
   ]
  },
  {
   "cell_type": "markdown",
   "id": "022d9d5f-7abe-45fb-83fc-b7d2bc5f0942",
   "metadata": {},
   "source": [
    "We have done a lot! At last just see, which Occupation asks for more"
   ]
  },
  {
   "cell_type": "code",
   "execution_count": 18,
   "id": "63b54762-4b98-47e9-af04-5d3b08ba0e14",
   "metadata": {},
   "outputs": [
    {
     "data": {
      "text/plain": [
       "Occupation\n",
       "Private Job    3062\n",
       "Farmer         3020\n",
       "Business       3005\n",
       "Govt Job       2991\n",
       "Unemployed     2922\n",
       "Name: count, dtype: int64"
      ]
     },
     "execution_count": 18,
     "metadata": {},
     "output_type": "execute_result"
    }
   ],
   "source": [
    "data.Occupation.value_counts()"
   ]
  },
  {
   "cell_type": "code",
   "execution_count": 19,
   "id": "64cd6e9b-10cf-4eee-86c8-0976734340c7",
   "metadata": {},
   "outputs": [
    {
     "data": {
      "image/png": "[encoded data removed]",
      "text/plain": [
       "<Figure size 800x500 with 1 Axes>"
      ]
     },
     "metadata": {},
     "output_type": "display_data"
    }
   ],
   "source": [
    "dowry_Occupation = {\"Private Job\" : data.Dowry_Amount_INR[data.Occupation == \"Private Job\"].mean(),\n",
    "                    \"Farmer\" : data.Dowry_Amount_INR[data.Occupation == \"Farmer\"].mean(),\n",
    "                    \"Business\" : data.Dowry_Amount_INR[data.Occupation == \"Business\"].mean(), \n",
    "                    \"Govt Job\" : data.Dowry_Amount_INR[data.Occupation == \"Govt Job\"].mean(),\n",
    "                    \"Unemployed\" : data.Dowry_Amount_INR[data.Occupation == \"Unemployed\"].mean()}\n",
    "\n",
    "fig, ax = plt.subplots(figsize = (8, 5))\n",
    "ax.bar(dowry_Occupation.keys(), dowry_Occupation.values());\n",
    "ax.set(xlabel = \"Occupation\", ylabel = \"Dowry Asked\", title = \"Occupation wise dowry demands\");"
   ]
  },
  {
   "cell_type": "markdown",
   "id": "7ec7c6fb-dd70-40c7-9473-62a5abd61981",
   "metadata": {},
   "source": [
    "Great! Even unemployed asks for dowry and farmers are no less."
   ]
  },
  {
   "cell_type": "markdown",
   "id": "46a4efb4-b234-4c99-a023-f0b4d406df35",
   "metadata": {},
   "source": [
    "### Modelling"
   ]
  },
  {
   "cell_type": "markdown",
   "id": "fd74fa14-5ea7-49de-ac37-e7e7e3db15ec",
   "metadata": {},
   "source": [
    "We are going to test various models and even further hypertune them side by side to achieve our said accuracy. Following are the models to be used:\n",
    "\n",
    "1. RandomForestRegressor\n",
    "2. Lasso\n",
    "3. SVR\n",
    "4. KNeighborsRegressor\n",
    "5. DecisionTreeRegressor"
   ]
  },
  {
   "cell_type": "code",
   "execution_count": 20,
   "id": "15ab5c45-6c3d-4082-b5e9-6f51f56fda48",
   "metadata": {},
   "outputs": [
    {
     "data": {
      "text/plain": [
       "State                   object\n",
       "Caste                   object\n",
       "Religion                object\n",
       "Groom_Age                int64\n",
       "Bride_Age                int64\n",
       "Groom_Education_Yrs      int64\n",
       "Bride_Education_Yrs      int64\n",
       "Groom_Income_Monthly     int64\n",
       "Bride_Income_Monthly     int64\n",
       "Occupation              object\n",
       "Marriage_Type           object\n",
       "Area                    object\n",
       "Family_Type             object\n",
       "Dowry_Amount_INR         int64\n",
       "dtype: object"
      ]
     },
     "execution_count": 20,
     "metadata": {},
     "output_type": "execute_result"
    }
   ],
   "source": [
    "# Preparing the data\n",
    "data = data.sample(frac = 1)\n",
    "\n",
    "X = data.drop(\"Dowry_Amount_INR\", axis = 1)\n",
    "y = data[\"Dowry_Amount_INR\"]\n",
    "\n",
    "data.isna().sum() # No imputed values\n",
    "data.dtypes"
   ]
  },
  {
   "cell_type": "code",
   "execution_count": 24,
   "id": "5bbb5741-156e-43cf-93f3-3938d83d2378",
   "metadata": {},
   "outputs": [
    {
     "data": {
      "text/html": [
       "<div>\n",
       "<style scoped>\n",
       "    .dataframe tbody tr th:only-of-type {\n",
       "        vertical-align: middle;\n",
       "    }\n",
       "\n",
       "    .dataframe tbody tr th {\n",
       "        vertical-align: top;\n",
       "    }\n",
       "\n",
       "    .dataframe thead th {\n",
       "        text-align: right;\n",
       "    }\n",
       "</style>\n",
       "<table border=\"1\" class=\"dataframe\">\n",
       "  <thead>\n",
       "    <tr style=\"text-align: right;\">\n",
       "      <th></th>\n",
       "      <th>State</th>\n",
       "      <th>Caste</th>\n",
       "      <th>Religion</th>\n",
       "      <th>Groom_Age</th>\n",
       "      <th>Bride_Age</th>\n",
       "      <th>Groom_Education_Yrs</th>\n",
       "      <th>Bride_Education_Yrs</th>\n",
       "      <th>Groom_Income_Monthly</th>\n",
       "      <th>Bride_Income_Monthly</th>\n",
       "      <th>Occupation</th>\n",
       "      <th>Marriage_Type</th>\n",
       "      <th>Area</th>\n",
       "      <th>Family_Type</th>\n",
       "      <th>Dowry_Amount_INR</th>\n",
       "    </tr>\n",
       "  </thead>\n",
       "  <tbody>\n",
       "    <tr>\n",
       "      <th>13992</th>\n",
       "      <td>Haryana</td>\n",
       "      <td>SC</td>\n",
       "      <td>Muslim</td>\n",
       "      <td>27</td>\n",
       "      <td>21</td>\n",
       "      <td>12</td>\n",
       "      <td>15</td>\n",
       "      <td>47732</td>\n",
       "      <td>14915</td>\n",
       "      <td>Govt Job</td>\n",
       "      <td>Arranged</td>\n",
       "      <td>Rural</td>\n",
       "      <td>Nuclear</td>\n",
       "      <td>760065</td>\n",
       "    </tr>\n",
       "    <tr>\n",
       "      <th>10186</th>\n",
       "      <td>Maharashtra</td>\n",
       "      <td>SC</td>\n",
       "      <td>Muslim</td>\n",
       "      <td>33</td>\n",
       "      <td>27</td>\n",
       "      <td>16</td>\n",
       "      <td>15</td>\n",
       "      <td>96330</td>\n",
       "      <td>64343</td>\n",
       "      <td>Unemployed</td>\n",
       "      <td>Arranged</td>\n",
       "      <td>Urban</td>\n",
       "      <td>Nuclear</td>\n",
       "      <td>427428</td>\n",
       "    </tr>\n",
       "    <tr>\n",
       "      <th>4028</th>\n",
       "      <td>Maharashtra</td>\n",
       "      <td>OBC</td>\n",
       "      <td>Christian</td>\n",
       "      <td>30</td>\n",
       "      <td>24</td>\n",
       "      <td>15</td>\n",
       "      <td>17</td>\n",
       "      <td>60041</td>\n",
       "      <td>27147</td>\n",
       "      <td>Farmer</td>\n",
       "      <td>Love</td>\n",
       "      <td>Urban</td>\n",
       "      <td>Joint</td>\n",
       "      <td>317689</td>\n",
       "    </tr>\n",
       "    <tr>\n",
       "      <th>6827</th>\n",
       "      <td>Haryana</td>\n",
       "      <td>ST</td>\n",
       "      <td>Christian</td>\n",
       "      <td>30</td>\n",
       "      <td>24</td>\n",
       "      <td>13</td>\n",
       "      <td>17</td>\n",
       "      <td>138090</td>\n",
       "      <td>52349</td>\n",
       "      <td>Business</td>\n",
       "      <td>Love</td>\n",
       "      <td>Rural</td>\n",
       "      <td>Joint</td>\n",
       "      <td>602562</td>\n",
       "    </tr>\n",
       "    <tr>\n",
       "      <th>3333</th>\n",
       "      <td>Karnataka</td>\n",
       "      <td>ST</td>\n",
       "      <td>Hindu</td>\n",
       "      <td>23</td>\n",
       "      <td>21</td>\n",
       "      <td>16</td>\n",
       "      <td>11</td>\n",
       "      <td>45887</td>\n",
       "      <td>8691</td>\n",
       "      <td>Private Job</td>\n",
       "      <td>Love</td>\n",
       "      <td>Rural</td>\n",
       "      <td>Joint</td>\n",
       "      <td>157187</td>\n",
       "    </tr>\n",
       "  </tbody>\n",
       "</table>\n",
       "</div>"
      ],
      "text/plain": [
       "             State Caste   Religion  Groom_Age  Bride_Age  \\\n",
       "13992      Haryana    SC     Muslim         27         21   \n",
       "10186  Maharashtra    SC     Muslim         33         27   \n",
       "4028   Maharashtra   OBC  Christian         30         24   \n",
       "6827       Haryana    ST  Christian         30         24   \n",
       "3333     Karnataka    ST      Hindu         23         21   \n",
       "\n",
       "       Groom_Education_Yrs  Bride_Education_Yrs  Groom_Income_Monthly  \\\n",
       "13992                   12                   15                 47732   \n",
       "10186                   16                   15                 96330   \n",
       "4028                    15                   17                 60041   \n",
       "6827                    13                   17                138090   \n",
       "3333                    16                   11                 45887   \n",
       "\n",
       "       Bride_Income_Monthly   Occupation Marriage_Type   Area Family_Type  \\\n",
       "13992                 14915     Govt Job      Arranged  Rural     Nuclear   \n",
       "10186                 64343   Unemployed      Arranged  Urban     Nuclear   \n",
       "4028                  27147       Farmer          Love  Urban       Joint   \n",
       "6827                  52349     Business          Love  Rural       Joint   \n",
       "3333                   8691  Private Job          Love  Rural       Joint   \n",
       "\n",
       "       Dowry_Amount_INR  \n",
       "13992            760065  \n",
       "10186            427428  \n",
       "4028             317689  \n",
       "6827             602562  \n",
       "3333             157187  "
      ]
     },
     "execution_count": 24,
     "metadata": {},
     "output_type": "execute_result"
    }
   ],
   "source": [
    "data.head()"
   ]
  },
  {
   "cell_type": "code",
   "execution_count": 21,
   "id": "8e755e21-9f85-45e4-b345-b4280e0272c0",
   "metadata": {},
   "outputs": [
    {
     "data": {
      "text/plain": [
       "array([[0.00000e+00, 0.00000e+00, 1.00000e+00, ..., 1.50000e+01,\n",
       "        4.77320e+04, 1.49150e+04],\n",
       "       [0.00000e+00, 0.00000e+00, 0.00000e+00, ..., 1.50000e+01,\n",
       "        9.63300e+04, 6.43430e+04],\n",
       "       [0.00000e+00, 0.00000e+00, 0.00000e+00, ..., 1.70000e+01,\n",
       "        6.00410e+04, 2.71470e+04],\n",
       "       ...,\n",
       "       [0.00000e+00, 0.00000e+00, 0.00000e+00, ..., 1.70000e+01,\n",
       "        7.62370e+04, 6.42600e+04],\n",
       "       [0.00000e+00, 0.00000e+00, 0.00000e+00, ..., 1.90000e+01,\n",
       "        1.88240e+04, 5.30530e+04],\n",
       "       [0.00000e+00, 1.00000e+00, 0.00000e+00, ..., 1.60000e+01,\n",
       "        1.28386e+05, 7.05270e+04]])"
      ]
     },
     "execution_count": 21,
     "metadata": {},
     "output_type": "execute_result"
    }
   ],
   "source": [
    "# Many cols are not numeric, lets encode them too.\n",
    "\n",
    "from sklearn.preprocessing import OneHotEncoder\n",
    "from sklearn.compose import ColumnTransformer\n",
    "\n",
    "non_numerical_data = [\"State\", \"Caste\", \"Religion\", \"Occupation\", \"Marriage_Type\", \"Area\", \"Family_Type\"]\n",
    "\n",
    "one_hot = OneHotEncoder()\n",
    "\n",
    "transformer = ColumnTransformer([(\"one hot\", one_hot, non_numerical_data)], remainder = \"passthrough\")\n",
    "\n",
    "transformedX = transformer.fit_transform(X)\n",
    "transformedX"
   ]
  },
  {
   "cell_type": "markdown",
   "id": "44bae615-e36f-4b4a-bffe-603a56eb7152",
   "metadata": {},
   "source": [
    "Let's start training our various models on the dataset"
   ]
  },
  {
   "cell_type": "code",
   "execution_count": 26,
   "id": "8504da69-a658-4fa1-9ac8-51a9aed95bfe",
   "metadata": {},
   "outputs": [],
   "source": [
    "# train_test_split\n",
    "X_train, X_test, y_train, y_test = train_test_split(transformedX, y, test_size=0.3, shuffle = True)"
   ]
  },
  {
   "cell_type": "code",
   "execution_count": 27,
   "id": "967e8f98-1216-4d59-832b-9679a51f15d0",
   "metadata": {},
   "outputs": [],
   "source": [
    "models = {\"Random Forest\" : RandomForestRegressor(),\n",
    "          \"Lasso\" : Lasso(), \n",
    "          \"svm\" : svm.SVR(),\n",
    "          \"KNN\" : KNeighborsRegressor(),\n",
    "          \"Decision Trees\" : DecisionTreeRegressor()}\n",
    "def fit_and_score_models(models, X_test, X_train, y_test, y_train):\n",
    "    \"\"\"\n",
    "    Takes model, X_test, X_train, y_test, y_train to fit on the model and then predict the score of the model each passed.\n",
    "    returns the score of each model in a dict.\n",
    "    \"\"\"\n",
    "    np.random.seed(42)\n",
    "    # Making the dict to store scpres of each of the model\n",
    "    model_score = {}\n",
    "    # Loop through each of the model to follow the same steps\n",
    "    for name, model in models.items():\n",
    "        # Fitting the data\n",
    "        model.fit(X_train, y_train)\n",
    "        # Score of each model stored in model_score dict\n",
    "        model_score[name] = round(model.score(X_test, y_test) * 100, 2)\n",
    "\n",
    "    return model_score"
   ]
  },
  {
   "cell_type": "code",
   "execution_count": 28,
   "id": "1b140849-8b40-4b54-980e-948efc1d099e",
   "metadata": {},
   "outputs": [
    {
     "name": "stderr",
     "output_type": "stream",
     "text": [
      "C:\\Users\\pc\\AppData\\Local\\Programs\\Python\\Python312\\Lib\\site-packages\\sklearn\\linear_model\\_coordinate_descent.py:695: ConvergenceWarning: Objective did not converge. You might want to increase the number of iterations, check the scale of the features or consider increasing regularisation. Duality gap: 4.249e+13, tolerance: 3.029e+11\n",
      "  model = cd_fast.enet_coordinate_descent(\n"
     ]
    }
   ],
   "source": [
    "model_scores = fit_and_score_models(models, X_test, X_train, y_test, y_train)"
   ]
  },
  {
   "cell_type": "code",
   "execution_count": 29,
   "id": "3bf04a23-7241-4e11-ace2-758b20865f9c",
   "metadata": {},
   "outputs": [
    {
     "data": {
      "text/plain": [
       "{'Random Forest': 98.15,\n",
       " 'Lasso': 81.63,\n",
       " 'svm': -9.11,\n",
       " 'KNN': 23.43,\n",
       " 'Decision Trees': 96.72}"
      ]
     },
     "execution_count": 29,
     "metadata": {},
     "output_type": "execute_result"
    }
   ],
   "source": [
    "model_scores"
   ]
  },
  {
   "cell_type": "code",
   "execution_count": 33,
   "id": "af23ddcb-5c77-42da-9e0d-21420072ab8b",
   "metadata": {},
   "outputs": [
    {
     "data": {
      "image/png": "[encoded data removed]",
      "text/plain": [
       "<Figure size 700x300 with 1 Axes>"
      ]
     },
     "metadata": {},
     "output_type": "display_data"
    }
   ],
   "source": [
    "fig, ax = plt.subplots(figsize = (7, 3))\n",
    "plt.style.use(\"fivethirtyeight\")\n",
    "colors = [\"orange\", \"violet\", \"blue\", \"red\", \"salmon\"]\n",
    "ax.bar(model_scores.keys(), model_scores.values(), color = colors)\n",
    "ax.set(xlabel = \"Models\", ylabel = \"Accuracy\", title = \"Accuracy of Different models\");"
   ]
  },
  {
   "cell_type": "markdown",
   "id": "583a8020-373d-41bd-acf5-e424b70b97eb",
   "metadata": {},
   "source": [
    "Random Forest is doing great! Let's evaluate it on more metrics"
   ]
  },
  {
   "cell_type": "markdown",
   "id": "b03ae8c0-7201-49d1-8a24-c11dc894c43d",
   "metadata": {},
   "source": [
    "**Evaluation of RandomForest**"
   ]
  },
  {
   "cell_type": "code",
   "execution_count": 35,
   "id": "664fae9c-e7ee-4696-90b3-160e923c0f60",
   "metadata": {},
   "outputs": [],
   "source": [
    "RF_model = RandomForestRegressor()\n",
    "RF_model.fit(X_train, y_train)\n",
    "RF_y_pred = RF_model.predict(X_test)"
   ]
  },
  {
   "cell_type": "code",
   "execution_count": 36,
   "id": "cb83e23d-84de-448f-bbde-925be40f3a0c",
   "metadata": {},
   "outputs": [
    {
     "data": {
      "text/plain": [
       "0.9817287542149435"
      ]
     },
     "execution_count": 36,
     "metadata": {},
     "output_type": "execute_result"
    }
   ],
   "source": [
    "RF_model.score(X_test, y_test)"
   ]
  },
  {
   "cell_type": "code",
   "execution_count": 37,
   "id": "4b67fd90-fdec-4930-be46-422c42e8ea14",
   "metadata": {},
   "outputs": [
    {
     "data": {
      "text/plain": [
       "55529.45458666667"
      ]
     },
     "execution_count": 37,
     "metadata": {},
     "output_type": "execute_result"
    }
   ],
   "source": [
    "mae_score = mean_absolute_error(y_test, RF_y_pred)\n",
    "mae_score"
   ]
  },
  {
   "cell_type": "code",
   "execution_count": 38,
   "id": "3ad68c4e-a02d-4d35-9145-4a94a24869e7",
   "metadata": {},
   "outputs": [
    {
     "data": {
      "text/plain": [
       "5212866073.070152"
      ]
     },
     "execution_count": 38,
     "metadata": {},
     "output_type": "execute_result"
    }
   ],
   "source": [
    "mse_score = mean_squared_error(y_test, RF_y_pred)\n",
    "mse_score"
   ]
  },
  {
   "cell_type": "code",
   "execution_count": 39,
   "id": "43a59e35-f2d1-425c-b90a-aa7c20afc882",
   "metadata": {},
   "outputs": [
    {
     "data": {
      "text/plain": [
       "72200.18056120187"
      ]
     },
     "execution_count": 39,
     "metadata": {},
     "output_type": "execute_result"
    }
   ],
   "source": [
    "rmse_score = root_mean_squared_error(y_test, RF_y_pred)\n",
    "rmse_score"
   ]
  },
  {
   "cell_type": "code",
   "execution_count": 44,
   "id": "2394bdf1-7688-44f1-9c82-a45545589dad",
   "metadata": {},
   "outputs": [
    {
     "data": {
      "text/plain": [
       "0.9817287542149435"
      ]
     },
     "execution_count": 44,
     "metadata": {},
     "output_type": "execute_result"
    }
   ],
   "source": [
    "R2_score = r2_score(y_test, RF_y_pred)\n",
    "R2_score"
   ]
  },
  {
   "cell_type": "code",
   "execution_count": 45,
   "id": "6ca8b486-632a-48be-8c92-84b30bab079e",
   "metadata": {},
   "outputs": [],
   "source": [
    "### Ohh, Great Model!"
   ]
  },
  {
   "cell_type": "markdown",
   "id": "43a342c2-67af-48ca-a663-90b14b55f9f4",
   "metadata": {},
   "source": [
    "### SAVING THE model and encoder"
   ]
  },
  {
   "cell_type": "code",
   "execution_count": 47,
   "id": "df4e4d71-3189-4083-9194-20044d5a7e28",
   "metadata": {},
   "outputs": [],
   "source": [
    "from joblib import dump, load"
   ]
  },
  {
   "cell_type": "code",
   "execution_count": 49,
   "id": "0bbc122e-e893-4f66-bd2d-a55bb62ca344",
   "metadata": {},
   "outputs": [
    {
     "data": {
      "text/plain": [
       "['Encoder_Dowry_project.joblib']"
      ]
     },
     "execution_count": 49,
     "metadata": {},
     "output_type": "execute_result"
    }
   ],
   "source": [
    "dump(RF_model, filename = (\"RandomForestModel_Dowry_project.joblib\"))\n",
    "dump(transformer, filename=(\"Encoder_Dowry_project.joblib\"))"
   ]
  },
  {
   "cell_type": "markdown",
   "id": "13d8ef70-d020-4cfd-8d49-2e0390af0a22",
   "metadata": {},
   "source": [
    "### The goal of the project is fulfilled with the following and the project is concluded:\n",
    "\n",
    "1. The data is cleaned and all the imputed values are filled.\n",
    "2. The non numeric features of the data are also encoded well to further train ML model.\n",
    "3. The model gave more than 98% accuracy while asked for 95%.\n",
    "4. Did deep exploratory data analysis and concluded and found many important results and patterns which further fueled the ML.\n",
    "5. Visualized all the important conclusions.\n",
    "6. Used various models like RandomForest, Lasso, SVR, KNN and Decision Trees.\n",
    "7. Also demonstrated their scores well with bar graphs.\n",
    "8. The best model is well tuned and saved along with the encoder transformer."
   ]
  },
  {
   "cell_type": "code",
   "execution_count": null,
   "id": "76da30e8-be30-486a-a8b5-e2f07ca099e6",
   "metadata": {},
   "outputs": [],
   "source": []
  }
 ],
 "metadata": {
  "kernelspec": {
   "display_name": "Python 3 (ipykernel)",
   "language": "python",
   "name": "python3"
  },
  "language_info": {
   "codemirror_mode": {
    "name": "ipython",
    "version": 3
   },
   "file_extension": ".py",
   "mimetype": "text/x-python",
   "name": "python",
   "nbconvert_exporter": "python",
   "pygments_lexer": "ipython3",
   "version": "3.12.4"
  }
 },
 "nbformat": 4,
 "nbformat_minor": 5
}

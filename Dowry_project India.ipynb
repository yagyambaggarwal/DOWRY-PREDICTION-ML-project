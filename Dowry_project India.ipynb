{
 "cells": [
  {
   "cell_type": "code",
   "execution_count": 1,
   "id": "c37a280b-9534-4f72-bd5b-0f366632a433",
   "metadata": {},
   "outputs": [
    {
     "name": "stdout",
     "output_type": "stream",
     "text": [
      "Requirement already satisfied: scikit-learn in c:\\users\\pc\\appdata\\local\\programs\\python\\python312\\lib\\site-packages (1.7.0)\n",
      "Requirement already satisfied: numpy>=1.22.0 in c:\\users\\pc\\appdata\\local\\programs\\python\\python312\\lib\\site-packages (from scikit-learn) (2.0.1)\n",
      "Requirement already satisfied: scipy>=1.8.0 in c:\\users\\pc\\appdata\\local\\programs\\python\\python312\\lib\\site-packages (from scikit-learn) (1.16.0)\n",
      "Requirement already satisfied: joblib>=1.2.0 in c:\\users\\pc\\appdata\\local\\programs\\python\\python312\\lib\\site-packages (from scikit-learn) (1.5.1)\n",
      "Requirement already satisfied: threadpoolctl>=3.1.0 in c:\\users\\pc\\appdata\\local\\programs\\python\\python312\\lib\\site-packages (from scikit-learn) (3.6.0)\n"
     ]
    },
    {
     "name": "stderr",
     "output_type": "stream",
     "text": [
      "\n",
      "[notice] A new release of pip is available: 24.1.2 -> 25.2\n",
      "[notice] To update, run: python.exe -m pip install --upgrade pip\n"
     ]
    }
   ],
   "source": [
    "!pip install scikit-learn\n",
    "import pandas as pd\n",
    "import numpy as np\n",
    "import random"
   ]
  },
  {
   "cell_type": "code",
   "execution_count": 2,
   "id": "4823d0f8-cd3d-4af1-83fb-bca036786372",
   "metadata": {},
   "outputs": [
    {
     "name": "stdout",
     "output_type": "stream",
     "text": [
      "Dataset saved as 'indian_dowry_dataset.csv' with 15000 rows\n"
     ]
    }
   ],
   "source": [
    "# Random seed for reproducibility\n",
    "np.random.seed(42)\n",
    "\n",
    "# Possible values\n",
    "states = [\"Kerala\",\"Haryana\",\"Punjab\",\"Gujarat\",\"Bihar\",\"Tamil Nadu\",\"Uttar Pradesh\",\"Rajasthan\",\"Maharashtra\",\"Karnataka\"]\n",
    "castes = [\"General\",\"OBC\",\"SC\",\"ST\"]\n",
    "religions = [\"Hindu\",\"Muslim\",\"Christian\",\"Sikh\"]\n",
    "occupations = [\"Govt Job\",\"Private Job\",\"Business\",\"Farmer\",\"Unemployed\"]\n",
    "marriage_types = [\"Arranged\",\"Love\"]\n",
    "areas = [\"Urban\",\"Rural\"]\n",
    "families = [\"Joint\",\"Nuclear\"]\n",
    "\n",
    "data = []\n",
    "n = 15000  # Number of rows\n",
    "\n",
    "for _ in range(n):\n",
    "    state = random.choice(states)\n",
    "    caste = random.choice(castes)\n",
    "    religion = random.choice(religions)\n",
    "    groom_age = random.randint(21, 35)\n",
    "    bride_age = random.randint(18, 30)\n",
    "    groom_edu = random.randint(10, 20)  # years\n",
    "    bride_edu = random.randint(8, 20)\n",
    "    groom_income = random.randint(10000, 150000)  # monthly\n",
    "    bride_income = random.randint(0, 80000)\n",
    "    occupation = random.choice(occupations)\n",
    "    marriage_type = random.choice(marriage_types)\n",
    "    area = random.choice(areas)\n",
    "    family_type = random.choice(families)\n",
    "    \n",
    "    # Base dowry calculation (synthetic, research-inspired pattern)\n",
    "    dowry = groom_income * 10  \n",
    "    if caste == \"General\": dowry *= 1.3\n",
    "    elif caste == \"OBC\": dowry *= 1.1\n",
    "    elif caste == \"SC\": dowry *= 0.85\n",
    "    elif caste == \"ST\": dowry *= 0.7\n",
    "\n",
    "    if marriage_type == \"Love\": dowry *= 0.4\n",
    "    if occupation == \"Govt Job\": dowry *= 1.5\n",
    "    elif occupation == \"Business\": dowry *= 1.3\n",
    "    elif occupation == \"Farmer\": dowry *= 0.9\n",
    "    elif occupation == \"Unemployed\": dowry *= 0.6\n",
    "\n",
    "    if state in [\"Kerala\",\"Haryana\",\"Punjab\"]:\n",
    "        dowry *= 1.2\n",
    "\n",
    "    dowry = int(dowry + np.random.normal(0, 50000))  # add noise\n",
    "    \n",
    "    data.append([state,caste,religion,groom_age,bride_age,groom_edu,bride_edu,\n",
    "                 groom_income,bride_income,occupation,marriage_type,area,family_type,dowry])\n",
    "\n",
    "# Create DataFrame\n",
    "columns = [\"State\",\"Caste\",\"Religion\",\"Groom_Age\",\"Bride_Age\",\"Groom_Education_Yrs\",\"Bride_Education_Yrs\",\n",
    "           \"Groom_Income_Monthly\",\"Bride_Income_Monthly\",\"Occupation\",\"Marriage_Type\",\"Area\",\"Family_Type\",\"Dowry_Amount_INR\"]\n",
    "\n",
    "df = pd.DataFrame(data, columns=columns)\n",
    "\n",
    "# Save to CSV\n",
    "df.to_csv(\"indian_dowry_dataset.csv\", index=False)\n",
    "\n",
    "print(\"Dataset saved as 'indian_dowry_dataset.csv' with\", len(df), \"rows\")\n"
   ]
  },
  {
   "cell_type": "code",
   "execution_count": 3,
   "id": "000c5bc5-92d6-4db0-b8a1-bfe8422b5360",
   "metadata": {},
   "outputs": [
    {
     "data": {
      "text/html": [
       "<div>\n",
       "<style scoped>\n",
       "    .dataframe tbody tr th:only-of-type {\n",
       "        vertical-align: middle;\n",
       "    }\n",
       "\n",
       "    .dataframe tbody tr th {\n",
       "        vertical-align: top;\n",
       "    }\n",
       "\n",
       "    .dataframe thead th {\n",
       "        text-align: right;\n",
       "    }\n",
       "</style>\n",
       "<table border=\"1\" class=\"dataframe\">\n",
       "  <thead>\n",
       "    <tr style=\"text-align: right;\">\n",
       "      <th></th>\n",
       "      <th>State</th>\n",
       "      <th>Caste</th>\n",
       "      <th>Religion</th>\n",
       "      <th>Groom_Age</th>\n",
       "      <th>Bride_Age</th>\n",
       "      <th>Groom_Education_Yrs</th>\n",
       "      <th>Bride_Education_Yrs</th>\n",
       "      <th>Groom_Income_Monthly</th>\n",
       "      <th>Bride_Income_Monthly</th>\n",
       "      <th>Occupation</th>\n",
       "      <th>Marriage_Type</th>\n",
       "      <th>Area</th>\n",
       "      <th>Family_Type</th>\n",
       "      <th>Dowry_Amount_INR</th>\n",
       "    </tr>\n",
       "  </thead>\n",
       "  <tbody>\n",
       "    <tr>\n",
       "      <th>10</th>\n",
       "      <td>Uttar Pradesh</td>\n",
       "      <td>General</td>\n",
       "      <td>Sikh</td>\n",
       "      <td>34</td>\n",
       "      <td>21</td>\n",
       "      <td>17</td>\n",
       "      <td>9</td>\n",
       "      <td>102442</td>\n",
       "      <td>15171</td>\n",
       "      <td>Farmer</td>\n",
       "      <td>Love</td>\n",
       "      <td>Rural</td>\n",
       "      <td>Joint</td>\n",
       "      <td>456257</td>\n",
       "    </tr>\n",
       "    <tr>\n",
       "      <th>11</th>\n",
       "      <td>Uttar Pradesh</td>\n",
       "      <td>General</td>\n",
       "      <td>Christian</td>\n",
       "      <td>23</td>\n",
       "      <td>24</td>\n",
       "      <td>15</td>\n",
       "      <td>9</td>\n",
       "      <td>33628</td>\n",
       "      <td>42411</td>\n",
       "      <td>Govt Job</td>\n",
       "      <td>Arranged</td>\n",
       "      <td>Urban</td>\n",
       "      <td>Nuclear</td>\n",
       "      <td>632459</td>\n",
       "    </tr>\n",
       "    <tr>\n",
       "      <th>46</th>\n",
       "      <td>Uttar Pradesh</td>\n",
       "      <td>General</td>\n",
       "      <td>Muslim</td>\n",
       "      <td>32</td>\n",
       "      <td>23</td>\n",
       "      <td>19</td>\n",
       "      <td>15</td>\n",
       "      <td>13437</td>\n",
       "      <td>38183</td>\n",
       "      <td>Farmer</td>\n",
       "      <td>Arranged</td>\n",
       "      <td>Rural</td>\n",
       "      <td>Nuclear</td>\n",
       "      <td>134180</td>\n",
       "    </tr>\n",
       "    <tr>\n",
       "      <th>138</th>\n",
       "      <td>Uttar Pradesh</td>\n",
       "      <td>General</td>\n",
       "      <td>Hindu</td>\n",
       "      <td>24</td>\n",
       "      <td>27</td>\n",
       "      <td>13</td>\n",
       "      <td>13</td>\n",
       "      <td>94784</td>\n",
       "      <td>34059</td>\n",
       "      <td>Unemployed</td>\n",
       "      <td>Arranged</td>\n",
       "      <td>Rural</td>\n",
       "      <td>Nuclear</td>\n",
       "      <td>779991</td>\n",
       "    </tr>\n",
       "    <tr>\n",
       "      <th>173</th>\n",
       "      <td>Uttar Pradesh</td>\n",
       "      <td>General</td>\n",
       "      <td>Christian</td>\n",
       "      <td>28</td>\n",
       "      <td>29</td>\n",
       "      <td>11</td>\n",
       "      <td>16</td>\n",
       "      <td>66607</td>\n",
       "      <td>15064</td>\n",
       "      <td>Farmer</td>\n",
       "      <td>Arranged</td>\n",
       "      <td>Rural</td>\n",
       "      <td>Nuclear</td>\n",
       "      <td>796359</td>\n",
       "    </tr>\n",
       "    <tr>\n",
       "      <th>...</th>\n",
       "      <td>...</td>\n",
       "      <td>...</td>\n",
       "      <td>...</td>\n",
       "      <td>...</td>\n",
       "      <td>...</td>\n",
       "      <td>...</td>\n",
       "      <td>...</td>\n",
       "      <td>...</td>\n",
       "      <td>...</td>\n",
       "      <td>...</td>\n",
       "      <td>...</td>\n",
       "      <td>...</td>\n",
       "      <td>...</td>\n",
       "      <td>...</td>\n",
       "    </tr>\n",
       "    <tr>\n",
       "      <th>14905</th>\n",
       "      <td>Uttar Pradesh</td>\n",
       "      <td>General</td>\n",
       "      <td>Sikh</td>\n",
       "      <td>21</td>\n",
       "      <td>22</td>\n",
       "      <td>13</td>\n",
       "      <td>11</td>\n",
       "      <td>90570</td>\n",
       "      <td>21180</td>\n",
       "      <td>Unemployed</td>\n",
       "      <td>Arranged</td>\n",
       "      <td>Urban</td>\n",
       "      <td>Nuclear</td>\n",
       "      <td>763093</td>\n",
       "    </tr>\n",
       "    <tr>\n",
       "      <th>14917</th>\n",
       "      <td>Uttar Pradesh</td>\n",
       "      <td>General</td>\n",
       "      <td>Muslim</td>\n",
       "      <td>25</td>\n",
       "      <td>23</td>\n",
       "      <td>15</td>\n",
       "      <td>15</td>\n",
       "      <td>127829</td>\n",
       "      <td>51832</td>\n",
       "      <td>Unemployed</td>\n",
       "      <td>Arranged</td>\n",
       "      <td>Rural</td>\n",
       "      <td>Nuclear</td>\n",
       "      <td>1089945</td>\n",
       "    </tr>\n",
       "    <tr>\n",
       "      <th>14921</th>\n",
       "      <td>Uttar Pradesh</td>\n",
       "      <td>General</td>\n",
       "      <td>Muslim</td>\n",
       "      <td>23</td>\n",
       "      <td>23</td>\n",
       "      <td>17</td>\n",
       "      <td>14</td>\n",
       "      <td>126748</td>\n",
       "      <td>12309</td>\n",
       "      <td>Unemployed</td>\n",
       "      <td>Arranged</td>\n",
       "      <td>Urban</td>\n",
       "      <td>Nuclear</td>\n",
       "      <td>877296</td>\n",
       "    </tr>\n",
       "    <tr>\n",
       "      <th>14930</th>\n",
       "      <td>Uttar Pradesh</td>\n",
       "      <td>General</td>\n",
       "      <td>Hindu</td>\n",
       "      <td>22</td>\n",
       "      <td>26</td>\n",
       "      <td>13</td>\n",
       "      <td>20</td>\n",
       "      <td>72443</td>\n",
       "      <td>27485</td>\n",
       "      <td>Farmer</td>\n",
       "      <td>Arranged</td>\n",
       "      <td>Urban</td>\n",
       "      <td>Nuclear</td>\n",
       "      <td>969382</td>\n",
       "    </tr>\n",
       "    <tr>\n",
       "      <th>14935</th>\n",
       "      <td>Uttar Pradesh</td>\n",
       "      <td>General</td>\n",
       "      <td>Christian</td>\n",
       "      <td>23</td>\n",
       "      <td>26</td>\n",
       "      <td>19</td>\n",
       "      <td>8</td>\n",
       "      <td>24147</td>\n",
       "      <td>49032</td>\n",
       "      <td>Unemployed</td>\n",
       "      <td>Love</td>\n",
       "      <td>Rural</td>\n",
       "      <td>Joint</td>\n",
       "      <td>49668</td>\n",
       "    </tr>\n",
       "  </tbody>\n",
       "</table>\n",
       "<p>371 rows × 14 columns</p>\n",
       "</div>"
      ],
      "text/plain": [
       "               State    Caste   Religion  Groom_Age  Bride_Age  \\\n",
       "10     Uttar Pradesh  General       Sikh         34         21   \n",
       "11     Uttar Pradesh  General  Christian         23         24   \n",
       "46     Uttar Pradesh  General     Muslim         32         23   \n",
       "138    Uttar Pradesh  General      Hindu         24         27   \n",
       "173    Uttar Pradesh  General  Christian         28         29   \n",
       "...              ...      ...        ...        ...        ...   \n",
       "14905  Uttar Pradesh  General       Sikh         21         22   \n",
       "14917  Uttar Pradesh  General     Muslim         25         23   \n",
       "14921  Uttar Pradesh  General     Muslim         23         23   \n",
       "14930  Uttar Pradesh  General      Hindu         22         26   \n",
       "14935  Uttar Pradesh  General  Christian         23         26   \n",
       "\n",
       "       Groom_Education_Yrs  Bride_Education_Yrs  Groom_Income_Monthly  \\\n",
       "10                      17                    9                102442   \n",
       "11                      15                    9                 33628   \n",
       "46                      19                   15                 13437   \n",
       "138                     13                   13                 94784   \n",
       "173                     11                   16                 66607   \n",
       "...                    ...                  ...                   ...   \n",
       "14905                   13                   11                 90570   \n",
       "14917                   15                   15                127829   \n",
       "14921                   17                   14                126748   \n",
       "14930                   13                   20                 72443   \n",
       "14935                   19                    8                 24147   \n",
       "\n",
       "       Bride_Income_Monthly  Occupation Marriage_Type   Area Family_Type  \\\n",
       "10                    15171      Farmer          Love  Rural       Joint   \n",
       "11                    42411    Govt Job      Arranged  Urban     Nuclear   \n",
       "46                    38183      Farmer      Arranged  Rural     Nuclear   \n",
       "138                   34059  Unemployed      Arranged  Rural     Nuclear   \n",
       "173                   15064      Farmer      Arranged  Rural     Nuclear   \n",
       "...                     ...         ...           ...    ...         ...   \n",
       "14905                 21180  Unemployed      Arranged  Urban     Nuclear   \n",
       "14917                 51832  Unemployed      Arranged  Rural     Nuclear   \n",
       "14921                 12309  Unemployed      Arranged  Urban     Nuclear   \n",
       "14930                 27485      Farmer      Arranged  Urban     Nuclear   \n",
       "14935                 49032  Unemployed          Love  Rural       Joint   \n",
       "\n",
       "       Dowry_Amount_INR  \n",
       "10               456257  \n",
       "11               632459  \n",
       "46               134180  \n",
       "138              779991  \n",
       "173              796359  \n",
       "...                 ...  \n",
       "14905            763093  \n",
       "14917           1089945  \n",
       "14921            877296  \n",
       "14930            969382  \n",
       "14935             49668  \n",
       "\n",
       "[371 rows x 14 columns]"
      ]
     },
     "execution_count": 3,
     "metadata": {},
     "output_type": "execute_result"
    }
   ],
   "source": [
    "dowry_data = pd.read_csv(\"indian_dowry_dataset.csv\")\n",
    "dowry_data[(dowry_data[\"State\"] == \"Uttar Pradesh\") & (dowry_data[\"Caste\"] == \"General\")]"
   ]
  },
  {
   "cell_type": "code",
   "execution_count": 4,
   "id": "ff3f8605-0486-4654-babe-3b0a0adf1803",
   "metadata": {},
   "outputs": [
    {
     "data": {
      "text/html": [
       "<div>\n",
       "<style scoped>\n",
       "    .dataframe tbody tr th:only-of-type {\n",
       "        vertical-align: middle;\n",
       "    }\n",
       "\n",
       "    .dataframe tbody tr th {\n",
       "        vertical-align: top;\n",
       "    }\n",
       "\n",
       "    .dataframe thead th {\n",
       "        text-align: right;\n",
       "    }\n",
       "</style>\n",
       "<table border=\"1\" class=\"dataframe\">\n",
       "  <thead>\n",
       "    <tr style=\"text-align: right;\">\n",
       "      <th></th>\n",
       "      <th>State</th>\n",
       "      <th>Caste</th>\n",
       "      <th>Religion</th>\n",
       "      <th>Groom_Age</th>\n",
       "      <th>Bride_Age</th>\n",
       "      <th>Groom_Education_Yrs</th>\n",
       "      <th>Bride_Education_Yrs</th>\n",
       "      <th>Groom_Income_Monthly</th>\n",
       "      <th>Bride_Income_Monthly</th>\n",
       "      <th>Occupation</th>\n",
       "      <th>Marriage_Type</th>\n",
       "      <th>Area</th>\n",
       "      <th>Family_Type</th>\n",
       "      <th>Dowry_Amount_INR</th>\n",
       "    </tr>\n",
       "  </thead>\n",
       "  <tbody>\n",
       "    <tr>\n",
       "      <th>5</th>\n",
       "      <td>Karnataka</td>\n",
       "      <td>OBC</td>\n",
       "      <td>Sikh</td>\n",
       "      <td>29</td>\n",
       "      <td>18</td>\n",
       "      <td>11</td>\n",
       "      <td>17</td>\n",
       "      <td>146345</td>\n",
       "      <td>28136</td>\n",
       "      <td>Unemployed</td>\n",
       "      <td>Arranged</td>\n",
       "      <td>Urban</td>\n",
       "      <td>Joint</td>\n",
       "      <td>954170</td>\n",
       "    </tr>\n",
       "    <tr>\n",
       "      <th>54</th>\n",
       "      <td>Uttar Pradesh</td>\n",
       "      <td>SC</td>\n",
       "      <td>Sikh</td>\n",
       "      <td>27</td>\n",
       "      <td>18</td>\n",
       "      <td>17</td>\n",
       "      <td>17</td>\n",
       "      <td>21958</td>\n",
       "      <td>49054</td>\n",
       "      <td>Unemployed</td>\n",
       "      <td>Love</td>\n",
       "      <td>Urban</td>\n",
       "      <td>Nuclear</td>\n",
       "      <td>96344</td>\n",
       "    </tr>\n",
       "    <tr>\n",
       "      <th>55</th>\n",
       "      <td>Bihar</td>\n",
       "      <td>ST</td>\n",
       "      <td>Muslim</td>\n",
       "      <td>24</td>\n",
       "      <td>18</td>\n",
       "      <td>19</td>\n",
       "      <td>12</td>\n",
       "      <td>61372</td>\n",
       "      <td>58552</td>\n",
       "      <td>Unemployed</td>\n",
       "      <td>Arranged</td>\n",
       "      <td>Rural</td>\n",
       "      <td>Joint</td>\n",
       "      <td>304326</td>\n",
       "    </tr>\n",
       "    <tr>\n",
       "      <th>64</th>\n",
       "      <td>Uttar Pradesh</td>\n",
       "      <td>SC</td>\n",
       "      <td>Sikh</td>\n",
       "      <td>34</td>\n",
       "      <td>18</td>\n",
       "      <td>13</td>\n",
       "      <td>13</td>\n",
       "      <td>42724</td>\n",
       "      <td>67059</td>\n",
       "      <td>Private Job</td>\n",
       "      <td>Arranged</td>\n",
       "      <td>Rural</td>\n",
       "      <td>Joint</td>\n",
       "      <td>403780</td>\n",
       "    </tr>\n",
       "    <tr>\n",
       "      <th>68</th>\n",
       "      <td>Rajasthan</td>\n",
       "      <td>ST</td>\n",
       "      <td>Sikh</td>\n",
       "      <td>33</td>\n",
       "      <td>18</td>\n",
       "      <td>18</td>\n",
       "      <td>19</td>\n",
       "      <td>38960</td>\n",
       "      <td>23007</td>\n",
       "      <td>Govt Job</td>\n",
       "      <td>Love</td>\n",
       "      <td>Urban</td>\n",
       "      <td>Joint</td>\n",
       "      <td>181713</td>\n",
       "    </tr>\n",
       "    <tr>\n",
       "      <th>...</th>\n",
       "      <td>...</td>\n",
       "      <td>...</td>\n",
       "      <td>...</td>\n",
       "      <td>...</td>\n",
       "      <td>...</td>\n",
       "      <td>...</td>\n",
       "      <td>...</td>\n",
       "      <td>...</td>\n",
       "      <td>...</td>\n",
       "      <td>...</td>\n",
       "      <td>...</td>\n",
       "      <td>...</td>\n",
       "      <td>...</td>\n",
       "      <td>...</td>\n",
       "    </tr>\n",
       "    <tr>\n",
       "      <th>14934</th>\n",
       "      <td>Maharashtra</td>\n",
       "      <td>SC</td>\n",
       "      <td>Sikh</td>\n",
       "      <td>25</td>\n",
       "      <td>18</td>\n",
       "      <td>14</td>\n",
       "      <td>12</td>\n",
       "      <td>97341</td>\n",
       "      <td>36266</td>\n",
       "      <td>Govt Job</td>\n",
       "      <td>Love</td>\n",
       "      <td>Rural</td>\n",
       "      <td>Joint</td>\n",
       "      <td>551647</td>\n",
       "    </tr>\n",
       "    <tr>\n",
       "      <th>14960</th>\n",
       "      <td>Punjab</td>\n",
       "      <td>OBC</td>\n",
       "      <td>Sikh</td>\n",
       "      <td>33</td>\n",
       "      <td>18</td>\n",
       "      <td>18</td>\n",
       "      <td>13</td>\n",
       "      <td>43580</td>\n",
       "      <td>37595</td>\n",
       "      <td>Unemployed</td>\n",
       "      <td>Arranged</td>\n",
       "      <td>Urban</td>\n",
       "      <td>Nuclear</td>\n",
       "      <td>376600</td>\n",
       "    </tr>\n",
       "    <tr>\n",
       "      <th>14968</th>\n",
       "      <td>Bihar</td>\n",
       "      <td>ST</td>\n",
       "      <td>Christian</td>\n",
       "      <td>31</td>\n",
       "      <td>18</td>\n",
       "      <td>10</td>\n",
       "      <td>15</td>\n",
       "      <td>30653</td>\n",
       "      <td>59084</td>\n",
       "      <td>Farmer</td>\n",
       "      <td>Arranged</td>\n",
       "      <td>Urban</td>\n",
       "      <td>Nuclear</td>\n",
       "      <td>208695</td>\n",
       "    </tr>\n",
       "    <tr>\n",
       "      <th>14974</th>\n",
       "      <td>Karnataka</td>\n",
       "      <td>SC</td>\n",
       "      <td>Muslim</td>\n",
       "      <td>29</td>\n",
       "      <td>18</td>\n",
       "      <td>20</td>\n",
       "      <td>17</td>\n",
       "      <td>80730</td>\n",
       "      <td>37468</td>\n",
       "      <td>Business</td>\n",
       "      <td>Love</td>\n",
       "      <td>Urban</td>\n",
       "      <td>Nuclear</td>\n",
       "      <td>409579</td>\n",
       "    </tr>\n",
       "    <tr>\n",
       "      <th>14987</th>\n",
       "      <td>Haryana</td>\n",
       "      <td>ST</td>\n",
       "      <td>Hindu</td>\n",
       "      <td>29</td>\n",
       "      <td>18</td>\n",
       "      <td>18</td>\n",
       "      <td>13</td>\n",
       "      <td>60226</td>\n",
       "      <td>78867</td>\n",
       "      <td>Private Job</td>\n",
       "      <td>Love</td>\n",
       "      <td>Urban</td>\n",
       "      <td>Joint</td>\n",
       "      <td>254178</td>\n",
       "    </tr>\n",
       "  </tbody>\n",
       "</table>\n",
       "<p>1226 rows × 14 columns</p>\n",
       "</div>"
      ],
      "text/plain": [
       "               State Caste   Religion  Groom_Age  Bride_Age  \\\n",
       "5          Karnataka   OBC       Sikh         29         18   \n",
       "54     Uttar Pradesh    SC       Sikh         27         18   \n",
       "55             Bihar    ST     Muslim         24         18   \n",
       "64     Uttar Pradesh    SC       Sikh         34         18   \n",
       "68         Rajasthan    ST       Sikh         33         18   \n",
       "...              ...   ...        ...        ...        ...   \n",
       "14934    Maharashtra    SC       Sikh         25         18   \n",
       "14960         Punjab   OBC       Sikh         33         18   \n",
       "14968          Bihar    ST  Christian         31         18   \n",
       "14974      Karnataka    SC     Muslim         29         18   \n",
       "14987        Haryana    ST      Hindu         29         18   \n",
       "\n",
       "       Groom_Education_Yrs  Bride_Education_Yrs  Groom_Income_Monthly  \\\n",
       "5                       11                   17                146345   \n",
       "54                      17                   17                 21958   \n",
       "55                      19                   12                 61372   \n",
       "64                      13                   13                 42724   \n",
       "68                      18                   19                 38960   \n",
       "...                    ...                  ...                   ...   \n",
       "14934                   14                   12                 97341   \n",
       "14960                   18                   13                 43580   \n",
       "14968                   10                   15                 30653   \n",
       "14974                   20                   17                 80730   \n",
       "14987                   18                   13                 60226   \n",
       "\n",
       "       Bride_Income_Monthly   Occupation Marriage_Type   Area Family_Type  \\\n",
       "5                     28136   Unemployed      Arranged  Urban       Joint   \n",
       "54                    49054   Unemployed          Love  Urban     Nuclear   \n",
       "55                    58552   Unemployed      Arranged  Rural       Joint   \n",
       "64                    67059  Private Job      Arranged  Rural       Joint   \n",
       "68                    23007     Govt Job          Love  Urban       Joint   \n",
       "...                     ...          ...           ...    ...         ...   \n",
       "14934                 36266     Govt Job          Love  Rural       Joint   \n",
       "14960                 37595   Unemployed      Arranged  Urban     Nuclear   \n",
       "14968                 59084       Farmer      Arranged  Urban     Nuclear   \n",
       "14974                 37468     Business          Love  Urban     Nuclear   \n",
       "14987                 78867  Private Job          Love  Urban       Joint   \n",
       "\n",
       "       Dowry_Amount_INR  \n",
       "5                954170  \n",
       "54                96344  \n",
       "55               304326  \n",
       "64               403780  \n",
       "68               181713  \n",
       "...                 ...  \n",
       "14934            551647  \n",
       "14960            376600  \n",
       "14968            208695  \n",
       "14974            409579  \n",
       "14987            254178  \n",
       "\n",
       "[1226 rows x 14 columns]"
      ]
     },
     "execution_count": 4,
     "metadata": {},
     "output_type": "execute_result"
    }
   ],
   "source": [
    "min_age = dowry_data[\"Bride_Age\"].min()\n",
    "dowry_data[dowry_data[\"Bride_Age\"] == min_age]"
   ]
  },
  {
   "cell_type": "code",
   "execution_count": 5,
   "id": "07af9c79-4edb-40a2-bbf8-507bb0ebbd1d",
   "metadata": {},
   "outputs": [
    {
     "data": {
      "text/plain": [
       "np.int64(3492070)"
      ]
     },
     "execution_count": 5,
     "metadata": {},
     "output_type": "execute_result"
    }
   ],
   "source": [
    "max_dowry = dowry_data[\"Dowry_Amount_INR\"].max()\n",
    "max_dowry"
   ]
  },
  {
   "cell_type": "code",
   "execution_count": 6,
   "id": "6dd9a7af-8270-4f0b-b087-36315672d7ab",
   "metadata": {},
   "outputs": [
    {
     "data": {
      "text/html": [
       "<div>\n",
       "<style scoped>\n",
       "    .dataframe tbody tr th:only-of-type {\n",
       "        vertical-align: middle;\n",
       "    }\n",
       "\n",
       "    .dataframe tbody tr th {\n",
       "        vertical-align: top;\n",
       "    }\n",
       "\n",
       "    .dataframe thead th {\n",
       "        text-align: right;\n",
       "    }\n",
       "</style>\n",
       "<table border=\"1\" class=\"dataframe\">\n",
       "  <thead>\n",
       "    <tr style=\"text-align: right;\">\n",
       "      <th></th>\n",
       "      <th>State</th>\n",
       "      <th>Caste</th>\n",
       "      <th>Religion</th>\n",
       "      <th>Groom_Age</th>\n",
       "      <th>Bride_Age</th>\n",
       "      <th>Groom_Education_Yrs</th>\n",
       "      <th>Bride_Education_Yrs</th>\n",
       "      <th>Groom_Income_Monthly</th>\n",
       "      <th>Bride_Income_Monthly</th>\n",
       "      <th>Occupation</th>\n",
       "      <th>Marriage_Type</th>\n",
       "      <th>Area</th>\n",
       "      <th>Family_Type</th>\n",
       "      <th>Dowry_Amount_INR</th>\n",
       "    </tr>\n",
       "  </thead>\n",
       "  <tbody>\n",
       "    <tr>\n",
       "      <th>14275</th>\n",
       "      <td>Haryana</td>\n",
       "      <td>General</td>\n",
       "      <td>Sikh</td>\n",
       "      <td>35</td>\n",
       "      <td>24</td>\n",
       "      <td>18</td>\n",
       "      <td>17</td>\n",
       "      <td>148141</td>\n",
       "      <td>53710</td>\n",
       "      <td>Govt Job</td>\n",
       "      <td>Arranged</td>\n",
       "      <td>Rural</td>\n",
       "      <td>Nuclear</td>\n",
       "      <td>3492070</td>\n",
       "    </tr>\n",
       "  </tbody>\n",
       "</table>\n",
       "</div>"
      ],
      "text/plain": [
       "         State    Caste Religion  Groom_Age  Bride_Age  Groom_Education_Yrs  \\\n",
       "14275  Haryana  General     Sikh         35         24                   18   \n",
       "\n",
       "       Bride_Education_Yrs  Groom_Income_Monthly  Bride_Income_Monthly  \\\n",
       "14275                   17                148141                 53710   \n",
       "\n",
       "      Occupation Marriage_Type   Area Family_Type  Dowry_Amount_INR  \n",
       "14275   Govt Job      Arranged  Rural     Nuclear           3492070  "
      ]
     },
     "execution_count": 6,
     "metadata": {},
     "output_type": "execute_result"
    }
   ],
   "source": [
    "dowry_data[dowry_data[\"Dowry_Amount_INR\"] == max_dowry]"
   ]
  },
  {
   "cell_type": "code",
   "execution_count": 7,
   "id": "2774d3d8-c1ff-4d6c-b565-e54443928212",
   "metadata": {},
   "outputs": [],
   "source": [
    "# prepare our data\n",
    "X = dowry_data.drop(\"Dowry_Amount_INR\", axis = 1)\n",
    "y = dowry_data[\"Dowry_Amount_INR\"]\n",
    "\n",
    "from sklearn.model_selection import train_test_split\n",
    "X_train, X_test, y_train, y_test = train_test_split(X, y, test_size = 0.35)"
   ]
  },
  {
   "cell_type": "code",
   "execution_count": 8,
   "id": "60737534-f467-47b3-a8c9-3e094d5eff20",
   "metadata": {},
   "outputs": [
    {
     "ename": "ValueError",
     "evalue": "could not convert string to float: 'Maharashtra'",
     "output_type": "error",
     "traceback": [
      "\u001b[1;31m---------------------------------------------------------------------------\u001b[0m",
      "\u001b[1;31mValueError\u001b[0m                                Traceback (most recent call last)",
      "\u001b[1;32m~\\AppData\\Local\\Temp\\ipykernel_16196\\2836842336.py\u001b[0m in \u001b[0;36m?\u001b[1;34m()\u001b[0m\n\u001b[0;32m      2\u001b[0m \u001b[1;32mfrom\u001b[0m \u001b[0msklearn\u001b[0m\u001b[1;33m.\u001b[0m\u001b[0mlinear_model\u001b[0m \u001b[1;32mimport\u001b[0m \u001b[0mLasso\u001b[0m\u001b[1;33m\u001b[0m\u001b[1;33m\u001b[0m\u001b[0m\n\u001b[0;32m      3\u001b[0m \u001b[1;33m\u001b[0m\u001b[0m\n\u001b[0;32m      4\u001b[0m \u001b[0mmodel\u001b[0m \u001b[1;33m=\u001b[0m \u001b[0mLasso\u001b[0m\u001b[1;33m(\u001b[0m\u001b[1;33m)\u001b[0m\u001b[1;33m\u001b[0m\u001b[1;33m\u001b[0m\u001b[0m\n\u001b[0;32m      5\u001b[0m \u001b[1;33m\u001b[0m\u001b[0m\n\u001b[1;32m----> 6\u001b[1;33m \u001b[0mmodel\u001b[0m\u001b[1;33m.\u001b[0m\u001b[0mfit\u001b[0m\u001b[1;33m(\u001b[0m\u001b[0mX_train\u001b[0m\u001b[1;33m,\u001b[0m \u001b[0my_train\u001b[0m\u001b[1;33m)\u001b[0m\u001b[1;33m\u001b[0m\u001b[1;33m\u001b[0m\u001b[0m\n\u001b[0m\u001b[0;32m      7\u001b[0m \u001b[1;33m\u001b[0m\u001b[0m\n\u001b[0;32m      8\u001b[0m \u001b[0my_pred\u001b[0m \u001b[1;33m=\u001b[0m \u001b[0mmodel\u001b[0m\u001b[1;33m.\u001b[0m\u001b[0mpredict\u001b[0m\u001b[1;33m(\u001b[0m\u001b[0mX_test\u001b[0m\u001b[1;33m)\u001b[0m\u001b[1;33m\u001b[0m\u001b[1;33m\u001b[0m\u001b[0m\n\u001b[0;32m      9\u001b[0m \u001b[1;33m\u001b[0m\u001b[0m\n",
      "\u001b[1;32m~\\AppData\\Local\\Programs\\Python\\Python312\\Lib\\site-packages\\sklearn\\base.py\u001b[0m in \u001b[0;36m?\u001b[1;34m(estimator, *args, **kwargs)\u001b[0m\n\u001b[0;32m   1359\u001b[0m                 skip_parameter_validation=(\n\u001b[0;32m   1360\u001b[0m                     \u001b[0mprefer_skip_nested_validation\u001b[0m \u001b[1;32mor\u001b[0m \u001b[0mglobal_skip_validation\u001b[0m\u001b[1;33m\u001b[0m\u001b[1;33m\u001b[0m\u001b[0m\n\u001b[0;32m   1361\u001b[0m                 \u001b[1;33m)\u001b[0m\u001b[1;33m\u001b[0m\u001b[1;33m\u001b[0m\u001b[0m\n\u001b[0;32m   1362\u001b[0m             \u001b[1;33m)\u001b[0m\u001b[1;33m:\u001b[0m\u001b[1;33m\u001b[0m\u001b[1;33m\u001b[0m\u001b[0m\n\u001b[1;32m-> 1363\u001b[1;33m                 \u001b[1;32mreturn\u001b[0m \u001b[0mfit_method\u001b[0m\u001b[1;33m(\u001b[0m\u001b[0mestimator\u001b[0m\u001b[1;33m,\u001b[0m \u001b[1;33m*\u001b[0m\u001b[0margs\u001b[0m\u001b[1;33m,\u001b[0m \u001b[1;33m**\u001b[0m\u001b[0mkwargs\u001b[0m\u001b[1;33m)\u001b[0m\u001b[1;33m\u001b[0m\u001b[1;33m\u001b[0m\u001b[0m\n\u001b[0m",
      "\u001b[1;32m~\\AppData\\Local\\Programs\\Python\\Python312\\Lib\\site-packages\\sklearn\\linear_model\\_coordinate_descent.py\u001b[0m in \u001b[0;36m?\u001b[1;34m(self, X, y, sample_weight, check_input)\u001b[0m\n\u001b[0;32m    978\u001b[0m         \u001b[1;31m# We expect X and y to be float64 or float32 Fortran ordered arrays\u001b[0m\u001b[1;33m\u001b[0m\u001b[1;33m\u001b[0m\u001b[0m\n\u001b[0;32m    979\u001b[0m         \u001b[1;31m# when bypassing checks\u001b[0m\u001b[1;33m\u001b[0m\u001b[1;33m\u001b[0m\u001b[0m\n\u001b[0;32m    980\u001b[0m         \u001b[1;32mif\u001b[0m \u001b[0mcheck_input\u001b[0m\u001b[1;33m:\u001b[0m\u001b[1;33m\u001b[0m\u001b[1;33m\u001b[0m\u001b[0m\n\u001b[0;32m    981\u001b[0m             \u001b[0mX_copied\u001b[0m \u001b[1;33m=\u001b[0m \u001b[0mself\u001b[0m\u001b[1;33m.\u001b[0m\u001b[0mcopy_X\u001b[0m \u001b[1;32mand\u001b[0m \u001b[0mself\u001b[0m\u001b[1;33m.\u001b[0m\u001b[0mfit_intercept\u001b[0m\u001b[1;33m\u001b[0m\u001b[1;33m\u001b[0m\u001b[0m\n\u001b[1;32m--> 982\u001b[1;33m             X, y = validate_data(\n\u001b[0m\u001b[0;32m    983\u001b[0m                 \u001b[0mself\u001b[0m\u001b[1;33m,\u001b[0m\u001b[1;33m\u001b[0m\u001b[1;33m\u001b[0m\u001b[0m\n\u001b[0;32m    984\u001b[0m                 \u001b[0mX\u001b[0m\u001b[1;33m,\u001b[0m\u001b[1;33m\u001b[0m\u001b[1;33m\u001b[0m\u001b[0m\n\u001b[0;32m    985\u001b[0m                 \u001b[0my\u001b[0m\u001b[1;33m,\u001b[0m\u001b[1;33m\u001b[0m\u001b[1;33m\u001b[0m\u001b[0m\n",
      "\u001b[1;32m~\\AppData\\Local\\Programs\\Python\\Python312\\Lib\\site-packages\\sklearn\\utils\\validation.py\u001b[0m in \u001b[0;36m?\u001b[1;34m(_estimator, X, y, reset, validate_separately, skip_check_array, **check_params)\u001b[0m\n\u001b[0;32m   2967\u001b[0m             \u001b[1;32mif\u001b[0m \u001b[1;34m\"estimator\"\u001b[0m \u001b[1;32mnot\u001b[0m \u001b[1;32min\u001b[0m \u001b[0mcheck_y_params\u001b[0m\u001b[1;33m:\u001b[0m\u001b[1;33m\u001b[0m\u001b[1;33m\u001b[0m\u001b[0m\n\u001b[0;32m   2968\u001b[0m                 \u001b[0mcheck_y_params\u001b[0m \u001b[1;33m=\u001b[0m \u001b[1;33m{\u001b[0m\u001b[1;33m**\u001b[0m\u001b[0mdefault_check_params\u001b[0m\u001b[1;33m,\u001b[0m \u001b[1;33m**\u001b[0m\u001b[0mcheck_y_params\u001b[0m\u001b[1;33m}\u001b[0m\u001b[1;33m\u001b[0m\u001b[1;33m\u001b[0m\u001b[0m\n\u001b[0;32m   2969\u001b[0m             \u001b[0my\u001b[0m \u001b[1;33m=\u001b[0m \u001b[0mcheck_array\u001b[0m\u001b[1;33m(\u001b[0m\u001b[0my\u001b[0m\u001b[1;33m,\u001b[0m \u001b[0minput_name\u001b[0m\u001b[1;33m=\u001b[0m\u001b[1;34m\"y\"\u001b[0m\u001b[1;33m,\u001b[0m \u001b[1;33m**\u001b[0m\u001b[0mcheck_y_params\u001b[0m\u001b[1;33m)\u001b[0m\u001b[1;33m\u001b[0m\u001b[1;33m\u001b[0m\u001b[0m\n\u001b[0;32m   2970\u001b[0m         \u001b[1;32melse\u001b[0m\u001b[1;33m:\u001b[0m\u001b[1;33m\u001b[0m\u001b[1;33m\u001b[0m\u001b[0m\n\u001b[1;32m-> 2971\u001b[1;33m             \u001b[0mX\u001b[0m\u001b[1;33m,\u001b[0m \u001b[0my\u001b[0m \u001b[1;33m=\u001b[0m \u001b[0mcheck_X_y\u001b[0m\u001b[1;33m(\u001b[0m\u001b[0mX\u001b[0m\u001b[1;33m,\u001b[0m \u001b[0my\u001b[0m\u001b[1;33m,\u001b[0m \u001b[1;33m**\u001b[0m\u001b[0mcheck_params\u001b[0m\u001b[1;33m)\u001b[0m\u001b[1;33m\u001b[0m\u001b[1;33m\u001b[0m\u001b[0m\n\u001b[0m\u001b[0;32m   2972\u001b[0m         \u001b[0mout\u001b[0m \u001b[1;33m=\u001b[0m \u001b[0mX\u001b[0m\u001b[1;33m,\u001b[0m \u001b[0my\u001b[0m\u001b[1;33m\u001b[0m\u001b[1;33m\u001b[0m\u001b[0m\n\u001b[0;32m   2973\u001b[0m \u001b[1;33m\u001b[0m\u001b[0m\n\u001b[0;32m   2974\u001b[0m     \u001b[1;32mif\u001b[0m \u001b[1;32mnot\u001b[0m \u001b[0mno_val_X\u001b[0m \u001b[1;32mand\u001b[0m \u001b[0mcheck_params\u001b[0m\u001b[1;33m.\u001b[0m\u001b[0mget\u001b[0m\u001b[1;33m(\u001b[0m\u001b[1;34m\"ensure_2d\"\u001b[0m\u001b[1;33m,\u001b[0m \u001b[1;32mTrue\u001b[0m\u001b[1;33m)\u001b[0m\u001b[1;33m:\u001b[0m\u001b[1;33m\u001b[0m\u001b[1;33m\u001b[0m\u001b[0m\n",
      "\u001b[1;32m~\\AppData\\Local\\Programs\\Python\\Python312\\Lib\\site-packages\\sklearn\\utils\\validation.py\u001b[0m in \u001b[0;36m?\u001b[1;34m(X, y, accept_sparse, accept_large_sparse, dtype, order, copy, force_writeable, force_all_finite, ensure_all_finite, ensure_2d, allow_nd, multi_output, ensure_min_samples, ensure_min_features, y_numeric, estimator)\u001b[0m\n\u001b[0;32m   1364\u001b[0m         \u001b[1;33m)\u001b[0m\u001b[1;33m\u001b[0m\u001b[1;33m\u001b[0m\u001b[0m\n\u001b[0;32m   1365\u001b[0m \u001b[1;33m\u001b[0m\u001b[0m\n\u001b[0;32m   1366\u001b[0m     \u001b[0mensure_all_finite\u001b[0m \u001b[1;33m=\u001b[0m \u001b[0m_deprecate_force_all_finite\u001b[0m\u001b[1;33m(\u001b[0m\u001b[0mforce_all_finite\u001b[0m\u001b[1;33m,\u001b[0m \u001b[0mensure_all_finite\u001b[0m\u001b[1;33m)\u001b[0m\u001b[1;33m\u001b[0m\u001b[1;33m\u001b[0m\u001b[0m\n\u001b[0;32m   1367\u001b[0m \u001b[1;33m\u001b[0m\u001b[0m\n\u001b[1;32m-> 1368\u001b[1;33m     X = check_array(\n\u001b[0m\u001b[0;32m   1369\u001b[0m         \u001b[0mX\u001b[0m\u001b[1;33m,\u001b[0m\u001b[1;33m\u001b[0m\u001b[1;33m\u001b[0m\u001b[0m\n\u001b[0;32m   1370\u001b[0m         \u001b[0maccept_sparse\u001b[0m\u001b[1;33m=\u001b[0m\u001b[0maccept_sparse\u001b[0m\u001b[1;33m,\u001b[0m\u001b[1;33m\u001b[0m\u001b[1;33m\u001b[0m\u001b[0m\n\u001b[0;32m   1371\u001b[0m         \u001b[0maccept_large_sparse\u001b[0m\u001b[1;33m=\u001b[0m\u001b[0maccept_large_sparse\u001b[0m\u001b[1;33m,\u001b[0m\u001b[1;33m\u001b[0m\u001b[1;33m\u001b[0m\u001b[0m\n",
      "\u001b[1;32m~\\AppData\\Local\\Programs\\Python\\Python312\\Lib\\site-packages\\sklearn\\utils\\validation.py\u001b[0m in \u001b[0;36m?\u001b[1;34m(array, accept_sparse, accept_large_sparse, dtype, order, copy, force_writeable, force_all_finite, ensure_all_finite, ensure_non_negative, ensure_2d, allow_nd, ensure_min_samples, ensure_min_features, estimator, input_name)\u001b[0m\n\u001b[0;32m   1050\u001b[0m                         \u001b[1;33m)\u001b[0m\u001b[1;33m\u001b[0m\u001b[1;33m\u001b[0m\u001b[0m\n\u001b[0;32m   1051\u001b[0m                     \u001b[0marray\u001b[0m \u001b[1;33m=\u001b[0m \u001b[0mxp\u001b[0m\u001b[1;33m.\u001b[0m\u001b[0mastype\u001b[0m\u001b[1;33m(\u001b[0m\u001b[0marray\u001b[0m\u001b[1;33m,\u001b[0m \u001b[0mdtype\u001b[0m\u001b[1;33m,\u001b[0m \u001b[0mcopy\u001b[0m\u001b[1;33m=\u001b[0m\u001b[1;32mFalse\u001b[0m\u001b[1;33m)\u001b[0m\u001b[1;33m\u001b[0m\u001b[1;33m\u001b[0m\u001b[0m\n\u001b[0;32m   1052\u001b[0m                 \u001b[1;32melse\u001b[0m\u001b[1;33m:\u001b[0m\u001b[1;33m\u001b[0m\u001b[1;33m\u001b[0m\u001b[0m\n\u001b[0;32m   1053\u001b[0m                     \u001b[0marray\u001b[0m \u001b[1;33m=\u001b[0m \u001b[0m_asarray_with_order\u001b[0m\u001b[1;33m(\u001b[0m\u001b[0marray\u001b[0m\u001b[1;33m,\u001b[0m \u001b[0morder\u001b[0m\u001b[1;33m=\u001b[0m\u001b[0morder\u001b[0m\u001b[1;33m,\u001b[0m \u001b[0mdtype\u001b[0m\u001b[1;33m=\u001b[0m\u001b[0mdtype\u001b[0m\u001b[1;33m,\u001b[0m \u001b[0mxp\u001b[0m\u001b[1;33m=\u001b[0m\u001b[0mxp\u001b[0m\u001b[1;33m)\u001b[0m\u001b[1;33m\u001b[0m\u001b[1;33m\u001b[0m\u001b[0m\n\u001b[1;32m-> 1054\u001b[1;33m             \u001b[1;32mexcept\u001b[0m \u001b[0mComplexWarning\u001b[0m \u001b[1;32mas\u001b[0m \u001b[0mcomplex_warning\u001b[0m\u001b[1;33m:\u001b[0m\u001b[1;33m\u001b[0m\u001b[1;33m\u001b[0m\u001b[0m\n\u001b[0m\u001b[0;32m   1055\u001b[0m                 raise ValueError(\n\u001b[0;32m   1056\u001b[0m                     \u001b[1;34m\"Complex data not supported\\n{}\\n\"\u001b[0m\u001b[1;33m.\u001b[0m\u001b[0mformat\u001b[0m\u001b[1;33m(\u001b[0m\u001b[0marray\u001b[0m\u001b[1;33m)\u001b[0m\u001b[1;33m\u001b[0m\u001b[1;33m\u001b[0m\u001b[0m\n\u001b[0;32m   1057\u001b[0m                 \u001b[1;33m)\u001b[0m \u001b[1;32mfrom\u001b[0m \u001b[0mcomplex_warning\u001b[0m\u001b[1;33m\u001b[0m\u001b[1;33m\u001b[0m\u001b[0m\n",
      "\u001b[1;32m~\\AppData\\Local\\Programs\\Python\\Python312\\Lib\\site-packages\\sklearn\\utils\\_array_api.py\u001b[0m in \u001b[0;36m?\u001b[1;34m(array, dtype, order, copy, xp, device)\u001b[0m\n\u001b[0;32m    753\u001b[0m         \u001b[1;31m# Use NumPy API to support order\u001b[0m\u001b[1;33m\u001b[0m\u001b[1;33m\u001b[0m\u001b[0m\n\u001b[0;32m    754\u001b[0m         \u001b[1;32mif\u001b[0m \u001b[0mcopy\u001b[0m \u001b[1;32mis\u001b[0m \u001b[1;32mTrue\u001b[0m\u001b[1;33m:\u001b[0m\u001b[1;33m\u001b[0m\u001b[1;33m\u001b[0m\u001b[0m\n\u001b[0;32m    755\u001b[0m             \u001b[0marray\u001b[0m \u001b[1;33m=\u001b[0m \u001b[0mnumpy\u001b[0m\u001b[1;33m.\u001b[0m\u001b[0marray\u001b[0m\u001b[1;33m(\u001b[0m\u001b[0marray\u001b[0m\u001b[1;33m,\u001b[0m \u001b[0morder\u001b[0m\u001b[1;33m=\u001b[0m\u001b[0morder\u001b[0m\u001b[1;33m,\u001b[0m \u001b[0mdtype\u001b[0m\u001b[1;33m=\u001b[0m\u001b[0mdtype\u001b[0m\u001b[1;33m)\u001b[0m\u001b[1;33m\u001b[0m\u001b[1;33m\u001b[0m\u001b[0m\n\u001b[0;32m    756\u001b[0m         \u001b[1;32melse\u001b[0m\u001b[1;33m:\u001b[0m\u001b[1;33m\u001b[0m\u001b[1;33m\u001b[0m\u001b[0m\n\u001b[1;32m--> 757\u001b[1;33m             \u001b[0marray\u001b[0m \u001b[1;33m=\u001b[0m \u001b[0mnumpy\u001b[0m\u001b[1;33m.\u001b[0m\u001b[0masarray\u001b[0m\u001b[1;33m(\u001b[0m\u001b[0marray\u001b[0m\u001b[1;33m,\u001b[0m \u001b[0morder\u001b[0m\u001b[1;33m=\u001b[0m\u001b[0morder\u001b[0m\u001b[1;33m,\u001b[0m \u001b[0mdtype\u001b[0m\u001b[1;33m=\u001b[0m\u001b[0mdtype\u001b[0m\u001b[1;33m)\u001b[0m\u001b[1;33m\u001b[0m\u001b[1;33m\u001b[0m\u001b[0m\n\u001b[0m\u001b[0;32m    758\u001b[0m \u001b[1;33m\u001b[0m\u001b[0m\n\u001b[0;32m    759\u001b[0m         \u001b[1;31m# At this point array is a NumPy ndarray. We convert it to an array\u001b[0m\u001b[1;33m\u001b[0m\u001b[1;33m\u001b[0m\u001b[0m\n\u001b[0;32m    760\u001b[0m         \u001b[1;31m# container that is consistent with the input's namespace.\u001b[0m\u001b[1;33m\u001b[0m\u001b[1;33m\u001b[0m\u001b[0m\n",
      "\u001b[1;32m~\\AppData\\Local\\Programs\\Python\\Python312\\Lib\\site-packages\\pandas\\core\\generic.py\u001b[0m in \u001b[0;36m?\u001b[1;34m(self, dtype, copy)\u001b[0m\n\u001b[0;32m   2149\u001b[0m     def __array__(\n\u001b[0;32m   2150\u001b[0m         \u001b[0mself\u001b[0m\u001b[1;33m,\u001b[0m \u001b[0mdtype\u001b[0m\u001b[1;33m:\u001b[0m \u001b[0mnpt\u001b[0m\u001b[1;33m.\u001b[0m\u001b[0mDTypeLike\u001b[0m \u001b[1;33m|\u001b[0m \u001b[1;32mNone\u001b[0m \u001b[1;33m=\u001b[0m \u001b[1;32mNone\u001b[0m\u001b[1;33m,\u001b[0m \u001b[0mcopy\u001b[0m\u001b[1;33m:\u001b[0m \u001b[0mbool_t\u001b[0m \u001b[1;33m|\u001b[0m \u001b[1;32mNone\u001b[0m \u001b[1;33m=\u001b[0m \u001b[1;32mNone\u001b[0m\u001b[1;33m\u001b[0m\u001b[1;33m\u001b[0m\u001b[0m\n\u001b[0;32m   2151\u001b[0m     \u001b[1;33m)\u001b[0m \u001b[1;33m->\u001b[0m \u001b[0mnp\u001b[0m\u001b[1;33m.\u001b[0m\u001b[0mndarray\u001b[0m\u001b[1;33m:\u001b[0m\u001b[1;33m\u001b[0m\u001b[1;33m\u001b[0m\u001b[0m\n\u001b[0;32m   2152\u001b[0m         \u001b[0mvalues\u001b[0m \u001b[1;33m=\u001b[0m \u001b[0mself\u001b[0m\u001b[1;33m.\u001b[0m\u001b[0m_values\u001b[0m\u001b[1;33m\u001b[0m\u001b[1;33m\u001b[0m\u001b[0m\n\u001b[1;32m-> 2153\u001b[1;33m         \u001b[0marr\u001b[0m \u001b[1;33m=\u001b[0m \u001b[0mnp\u001b[0m\u001b[1;33m.\u001b[0m\u001b[0masarray\u001b[0m\u001b[1;33m(\u001b[0m\u001b[0mvalues\u001b[0m\u001b[1;33m,\u001b[0m \u001b[0mdtype\u001b[0m\u001b[1;33m=\u001b[0m\u001b[0mdtype\u001b[0m\u001b[1;33m)\u001b[0m\u001b[1;33m\u001b[0m\u001b[1;33m\u001b[0m\u001b[0m\n\u001b[0m\u001b[0;32m   2154\u001b[0m         if (\n\u001b[0;32m   2155\u001b[0m             \u001b[0mastype_is_view\u001b[0m\u001b[1;33m(\u001b[0m\u001b[0mvalues\u001b[0m\u001b[1;33m.\u001b[0m\u001b[0mdtype\u001b[0m\u001b[1;33m,\u001b[0m \u001b[0marr\u001b[0m\u001b[1;33m.\u001b[0m\u001b[0mdtype\u001b[0m\u001b[1;33m)\u001b[0m\u001b[1;33m\u001b[0m\u001b[1;33m\u001b[0m\u001b[0m\n\u001b[0;32m   2156\u001b[0m             \u001b[1;32mand\u001b[0m \u001b[0musing_copy_on_write\u001b[0m\u001b[1;33m(\u001b[0m\u001b[1;33m)\u001b[0m\u001b[1;33m\u001b[0m\u001b[1;33m\u001b[0m\u001b[0m\n",
      "\u001b[1;31mValueError\u001b[0m: could not convert string to float: 'Maharashtra'"
     ]
    }
   ],
   "source": [
    "# Setting up estimator\n",
    "from sklearn.linear_model import Lasso\n",
    "\n",
    "model = Lasso()\n",
    "\n",
    "model.fit(X_train, y_train)\n",
    "\n",
    "y_pred = model.predict(X_test)\n",
    "\n",
    "model.score(X_test, y_test)"
   ]
  },
  {
   "cell_type": "code",
   "execution_count": 9,
   "id": "3e5de111-5cd8-4a92-b59b-a8dd893db860",
   "metadata": {},
   "outputs": [
    {
     "data": {
      "text/plain": [
       "State                   object\n",
       "Caste                   object\n",
       "Religion                object\n",
       "Groom_Age                int64\n",
       "Bride_Age                int64\n",
       "Groom_Education_Yrs      int64\n",
       "Bride_Education_Yrs      int64\n",
       "Groom_Income_Monthly     int64\n",
       "Bride_Income_Monthly     int64\n",
       "Occupation              object\n",
       "Marriage_Type           object\n",
       "Area                    object\n",
       "Family_Type             object\n",
       "Dowry_Amount_INR         int64\n",
       "dtype: object"
      ]
     },
     "execution_count": 9,
     "metadata": {},
     "output_type": "execute_result"
    }
   ],
   "source": [
    "dowry_data.dtypes"
   ]
  },
  {
   "cell_type": "code",
   "execution_count": 10,
   "id": "3b825b53-90fc-4b6e-8a74-ab140226fdb3",
   "metadata": {},
   "outputs": [
    {
     "data": {
      "text/plain": [
       "(Occupation\n",
       " Private Job    3062\n",
       " Farmer         3020\n",
       " Business       3005\n",
       " Govt Job       2991\n",
       " Unemployed     2922\n",
       " Name: count, dtype: int64,\n",
       " Religion\n",
       " Hindu        3771\n",
       " Sikh         3753\n",
       " Christian    3752\n",
       " Muslim       3724\n",
       " Name: count, dtype: int64)"
      ]
     },
     "execution_count": 10,
     "metadata": {},
     "output_type": "execute_result"
    }
   ],
   "source": [
    "dowry_data[\"Occupation\"].value_counts(), dowry_data[\"Religion\"].value_counts()"
   ]
  },
  {
   "cell_type": "code",
   "execution_count": 11,
   "id": "da9049f8-8c4e-48b3-a64f-2ea018f623de",
   "metadata": {},
   "outputs": [
    {
     "data": {
      "text/plain": [
       "State\n",
       "Karnataka        1564\n",
       "Punjab           1535\n",
       "Haryana          1532\n",
       "Gujarat          1526\n",
       "Uttar Pradesh    1521\n",
       "Kerala           1499\n",
       "Rajasthan        1488\n",
       "Maharashtra      1464\n",
       "Bihar            1459\n",
       "Tamil Nadu       1412\n",
       "Name: count, dtype: int64"
      ]
     },
     "execution_count": 11,
     "metadata": {},
     "output_type": "execute_result"
    }
   ],
   "source": [
    "dowry_data[\"State\"].value_counts()"
   ]
  },
  {
   "cell_type": "code",
   "execution_count": 12,
   "id": "c5f4087b-fc1e-4503-bae4-9b79a19d52ed",
   "metadata": {},
   "outputs": [
    {
     "data": {
      "text/plain": [
       "State                   0\n",
       "Caste                   0\n",
       "Religion                0\n",
       "Groom_Age               0\n",
       "Bride_Age               0\n",
       "Groom_Education_Yrs     0\n",
       "Bride_Education_Yrs     0\n",
       "Groom_Income_Monthly    0\n",
       "Bride_Income_Monthly    0\n",
       "Occupation              0\n",
       "Marriage_Type           0\n",
       "Area                    0\n",
       "Family_Type             0\n",
       "Dowry_Amount_INR        0\n",
       "dtype: int64"
      ]
     },
     "execution_count": 12,
     "metadata": {},
     "output_type": "execute_result"
    }
   ],
   "source": [
    "dowry_data.isna().sum()"
   ]
  },
  {
   "cell_type": "code",
   "execution_count": 13,
   "id": "e0af0e52-db63-46be-b99e-365471f558b1",
   "metadata": {},
   "outputs": [],
   "source": [
    "# data that need conversion: Area, Family_Type, Marriage_Type, Occupation, Religion, Caste, State, "
   ]
  },
  {
   "cell_type": "code",
   "execution_count": 47,
   "id": "2cdf57e5-6bf9-4c3d-b7dd-797a861271fb",
   "metadata": {},
   "outputs": [
    {
     "data": {
      "text/plain": [
       "array([[1.00000e+00, 0.00000e+00, 0.00000e+00, ..., 1.40000e+01,\n",
       "        1.39882e+05, 5.21040e+04],\n",
       "       [0.00000e+00, 1.00000e+00, 1.00000e+00, ..., 1.00000e+01,\n",
       "        6.35540e+04, 6.56920e+04],\n",
       "       [0.00000e+00, 1.00000e+00, 1.00000e+00, ..., 1.40000e+01,\n",
       "        5.32860e+04, 3.23410e+04],\n",
       "       ...,\n",
       "       [0.00000e+00, 1.00000e+00, 0.00000e+00, ..., 1.00000e+01,\n",
       "        7.09160e+04, 1.25140e+04],\n",
       "       [1.00000e+00, 0.00000e+00, 0.00000e+00, ..., 1.60000e+01,\n",
       "        3.62360e+04, 2.28740e+04],\n",
       "       [1.00000e+00, 0.00000e+00, 0.00000e+00, ..., 1.20000e+01,\n",
       "        1.21782e+05, 3.33830e+04]])"
      ]
     },
     "execution_count": 47,
     "metadata": {},
     "output_type": "execute_result"
    }
   ],
   "source": [
    "# Turn the categories into numbers as only this is understood by machines\n",
    "\n",
    "from sklearn.preprocessing import OneHotEncoder\n",
    "from sklearn.compose import ColumnTransformer\n",
    "\n",
    "categorical_features = [\"Area\", \"Family_Type\", \"Marriage_Type\", \"Occupation\", \"Religion\", \"Caste\", \"State\"]\n",
    "one_hot = OneHotEncoder()\n",
    "transformer = ColumnTransformer([(\"one_hot\", one_hot, categorical_features)], remainder=\"passthrough\")\n",
    "\n",
    "transformed_X = transformer.fit_transform(X)\n",
    "transformed_X"
   ]
  },
  {
   "cell_type": "code",
   "execution_count": 48,
   "id": "73c3940f-ab79-4f8f-8d06-456be80a5b93",
   "metadata": {},
   "outputs": [
    {
     "data": {
      "text/plain": [
       "0.9814885754955763"
      ]
     },
     "execution_count": 48,
     "metadata": {},
     "output_type": "execute_result"
    }
   ],
   "source": [
    "# Making train_test_split again\n",
    "from sklearn.model_selection import train_test_split\n",
    "\n",
    "X_train, X_test, y_train, y_test = train_test_split(transformed_X, y, test_size=0.3)\n",
    "\n",
    "model.fit(X_train, y_train)\n",
    "\n",
    "y_pred = model.predict(X_test)\n",
    "\n",
    "model.score(X_test, y_test)"
   ]
  },
  {
   "cell_type": "code",
   "execution_count": 16,
   "id": "6bd70a4c-2dc6-4a78-bbc3-f1e1d0733732",
   "metadata": {},
   "outputs": [],
   "source": [
    "# Let's try another model"
   ]
  },
  {
   "cell_type": "code",
   "execution_count": 49,
   "id": "51658acb-6c2e-457f-9e52-c523092c0506",
   "metadata": {},
   "outputs": [
    {
     "data": {
      "text/plain": [
       "0.9814469003250434"
      ]
     },
     "execution_count": 49,
     "metadata": {},
     "output_type": "execute_result"
    }
   ],
   "source": [
    "from sklearn.ensemble import RandomForestRegressor\n",
    "\n",
    "model2 = RandomForestRegressor()\n",
    "\n",
    "model2.fit(X_train, y_train)\n",
    "\n",
    "y_pred2 = model2.predict(X_test)\n",
    "\n",
    "model2.score(X_test, y_test)"
   ]
  },
  {
   "cell_type": "code",
   "execution_count": 18,
   "id": "257a92b9-591e-458a-8108-995891dfc473",
   "metadata": {},
   "outputs": [],
   "source": [
    "### This seems fine for now! Let save the model"
   ]
  },
  {
   "cell_type": "code",
   "execution_count": 50,
   "id": "0f4ab263-a78a-43f0-9c9f-ccb08e352d9a",
   "metadata": {},
   "outputs": [
    {
     "data": {
      "text/plain": [
       "['./dowry_encoder.joblib']"
      ]
     },
     "execution_count": 50,
     "metadata": {},
     "output_type": "execute_result"
    }
   ],
   "source": [
    "from joblib import load, dump\n",
    "# SAVE THE model\n",
    "dump(model2, filename = (\"dowry_predict_model.joblib\"))\n",
    "# Also saving the encoder\n",
    "dump(transformer, filename = (\"./dowry_encoder.joblib\"))"
   ]
  },
  {
   "cell_type": "code",
   "execution_count": 51,
   "id": "e6e9972d-bcb0-4437-85ca-afdb2bc9f12e",
   "metadata": {},
   "outputs": [],
   "source": [
    "# Now we can Load The Data when needed."
   ]
  },
  {
   "cell_type": "code",
   "execution_count": 52,
   "id": "c527bf1e-6e0a-4ea3-9ad1-5ab66bb8f7c9",
   "metadata": {},
   "outputs": [
    {
     "data": {
      "text/plain": [
       "Index(['State', 'Caste', 'Religion', 'Groom_Age', 'Bride_Age',\n",
       "       'Groom_Education_Yrs', 'Bride_Education_Yrs', 'Groom_Income_Monthly',\n",
       "       'Bride_Income_Monthly', 'Occupation', 'Marriage_Type', 'Area',\n",
       "       'Family_Type', 'Dowry_Amount_INR'],\n",
       "      dtype='object')"
      ]
     },
     "execution_count": 52,
     "metadata": {},
     "output_type": "execute_result"
    }
   ],
   "source": [
    "dowry_data.columns"
   ]
  },
  {
   "cell_type": "code",
   "execution_count": 53,
   "id": "50fbcd38-92f5-4036-9725-55878629980e",
   "metadata": {},
   "outputs": [],
   "source": [
    "# Let's take user's i/p and reform it to be passed to the model\n",
    "transformer = load(filename=(\"./dowry_encoder.joblib\"))\n",
    "def user_input(State, Caste, Religion, Groom_Age, Bride_Age, Groom_Education_Yrs, Bride_Education_Yrs, Groom_Income_Monthly, Bride_Income_Monthly, Occupation, Marriage_Type, Area, Family_Type):\n",
    "    user_data = {\"State\" : State, \n",
    "             \"Caste\" : Caste,\n",
    "             \"Religion\" : Religion,\n",
    "             \"Groom_Age\" : Groom_Age,\n",
    "             \"Bride_Age\" : Bride_Age,\n",
    "             \"Groom_Education_Yrs\" : Groom_Education_Yrs,\n",
    "             \"Bride_Education_Yrs\" : Bride_Education_Yrs,\n",
    "             \"Groom_Income_Monthly\" : Groom_Income_Monthly,\n",
    "             \"Bride_Income_Monthly\" : Bride_Income_Monthly,\n",
    "             \"Occupation\" : Occupation,\n",
    "             \"Marriage_Type\" : Marriage_Type,\n",
    "             \"Area\" : Area,\n",
    "             \"Family_Type\" : Family_Type\n",
    "            },\n",
    "    data = pd.DataFrame(data = user_data)\n",
    "\n",
    "    # Encoding the necessary features using the dowry_encoder.joblib\n",
    "    data = transformer.transform(data)\n",
    "    return data\n",
    "\n",
    "# Now defining a func to predict user's data on the model\n",
    "def model_predict(data, model):\n",
    "    y_pred = model.predict(data)\n",
    "    return y_pred\n",
    "    "
   ]
  },
  {
   "cell_type": "code",
   "execution_count": 54,
   "id": "0a7ca2fd-0ded-40a3-aae0-07fd22041058",
   "metadata": {},
   "outputs": [],
   "source": [
    "from joblib import load\n",
    "model = load(filename=(\"dowry_predict_model.joblib\"))"
   ]
  },
  {
   "cell_type": "code",
   "execution_count": 56,
   "id": "268e5167-9ca9-43ef-b1e8-178f4ea2cdd4",
   "metadata": {},
   "outputs": [
    {
     "name": "stdout",
     "output_type": "stream",
     "text": [
      "[1898243.27]\n"
     ]
    }
   ],
   "source": [
    "# Test the model\n",
    "\n",
    "data = user_input(\"Bihar\", \"General\", \"Hindu\", 26, 18, 23, 20, 600000, 200000, \"Private Job\", \"Arranged\", \"Urban\", \"Joint\")\n",
    "y_pred = model_predict(data, model)\n",
    "print(y_pred)"
   ]
  },
  {
   "cell_type": "code",
   "execution_count": 57,
   "id": "b3a6db5e-ca25-4563-a78c-de93a082d2d5",
   "metadata": {},
   "outputs": [],
   "source": [
    "### AMAZING!!!!"
   ]
  },
  {
   "cell_type": "code",
   "execution_count": 60,
   "id": "dfb03853-b161-44aa-abfc-7cfcf1c37326",
   "metadata": {},
   "outputs": [
    {
     "name": "stdout",
     "output_type": "stream",
     "text": [
      "[1901698.45]\n"
     ]
    }
   ],
   "source": [
    "data = user_input(\"Uttar Pradesh\", \"General\", \"Hindu\", 25, 23, 24, 22, 600000, 200000, \"Private Job\", \"Arranged\", \"Urban\", \"Joint\")\n",
    "y_pred = model_predict(data, model)\n",
    "print(y_pred)"
   ]
  },
  {
   "cell_type": "code",
   "execution_count": 59,
   "id": "0578913c-f9ec-4e44-afdd-c7666feb69b7",
   "metadata": {},
   "outputs": [
    {
     "data": {
      "text/plain": [
       "Occupation\n",
       "Private Job    3062\n",
       "Farmer         3020\n",
       "Business       3005\n",
       "Govt Job       2991\n",
       "Unemployed     2922\n",
       "Name: count, dtype: int64"
      ]
     },
     "execution_count": 59,
     "metadata": {},
     "output_type": "execute_result"
    }
   ],
   "source": [
    "dowry_data[\"Occupation\"].value_counts()"
   ]
  },
  {
   "cell_type": "code",
   "execution_count": null,
   "id": "f32c9b55-61cc-4750-a170-45df33437d6f",
   "metadata": {},
   "outputs": [],
   "source": []
  }
 ],
 "metadata": {
  "kernelspec": {
   "display_name": "Python 3 (ipykernel)",
   "language": "python",
   "name": "python3"
  },
  "language_info": {
   "codemirror_mode": {
    "name": "ipython",
    "version": 3
   },
   "file_extension": ".py",
   "mimetype": "text/x-python",
   "name": "python",
   "nbconvert_exporter": "python",
   "pygments_lexer": "ipython3",
   "version": "3.12.4"
  }
 },
 "nbformat": 4,
 "nbformat_minor": 5
}
